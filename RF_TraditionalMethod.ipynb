{
  "cells": [
    {
      "cell_type": "code",
      "execution_count": null,
      "metadata": {
        "colab": {
          "base_uri": "https://localhost:8080/"
        },
        "id": "Wz83ZYjX0pvt",
        "outputId": "dca27eec-7fa4-4440-daae-9546a1cf0280"
      },
      "outputs": [
        {
          "output_type": "stream",
          "name": "stdout",
          "text": [
            "Drive already mounted at /content/drive; to attempt to forcibly remount, call drive.mount(\"/content/drive\", force_remount=True).\n"
          ]
        }
      ],
      "source": [
        "from google.colab import drive\n",
        "drive.mount('/content/drive')"
      ]
    },
    {
      "cell_type": "code",
      "execution_count": null,
      "metadata": {
        "id": "_fKWWP-b0crC"
      },
      "outputs": [],
      "source": [
        "import cv2\n",
        "import numpy as np\n",
        "from sklearn.svm import SVC\n",
        "from sklearn.model_selection import train_test_split\n",
        "from sklearn.metrics import accuracy_score, classification_report\n",
        "import os\n",
        "from skimage.feature import local_binary_pattern, hog\n",
        "from sklearn.ensemble import RandomForestClassifier"
      ]
    },
    {
      "cell_type": "markdown",
      "metadata": {
        "id": "tXZq_lcB05lA"
      },
      "source": [
        "## Load & Preprocessing Image"
      ]
    },
    {
      "cell_type": "code",
      "execution_count": null,
      "metadata": {
        "id": "P5C9jwEQ-rXe"
      },
      "outputs": [],
      "source": [
        "DATASET_PATH = '/content/drive/My Drive/dataset-coral-baru'"
      ]
    },
    {
      "cell_type": "code",
      "execution_count": null,
      "metadata": {
        "id": "o-_3juSU_G8H",
        "colab": {
          "base_uri": "https://localhost:8080/"
        },
        "outputId": "9838e42c-9e63-4480-f940-2c926ea2fc49"
      },
      "outputs": [
        {
          "output_type": "stream",
          "name": "stdout",
          "text": [
            "Total images loaded: 1218\n",
            "Total classes: 11\n"
          ]
        }
      ],
      "source": [
        "IMAGE_SIZE = (224, 224)\n",
        "RADIUS = 1\n",
        "N_POINTS = 8 * RADIUS\n",
        "\n",
        "images = []\n",
        "class_list = []\n",
        "\n",
        "clahe = cv2.createCLAHE(clipLimit=2.0, tileGridSize=(8, 8))\n",
        "\n",
        "for class_index, class_name in enumerate(os.listdir(DATASET_PATH)):\n",
        "    class_path = os.path.join(DATASET_PATH, class_name)\n",
        "    if os.path.isdir(class_path):\n",
        "        for file_name in os.listdir(class_path):\n",
        "            file_path = os.path.join(class_path, file_name)\n",
        "\n",
        "            image = cv2.imread(file_path)\n",
        "            if image is not None:\n",
        "\n",
        "                image = cv2.resize(image, IMAGE_SIZE)\n",
        "\n",
        "                gray_image = cv2.cvtColor(image, cv2.COLOR_BGR2GRAY)\n",
        "\n",
        "                gray_image = clahe.apply(gray_image)\n",
        "\n",
        "\n",
        "                images.append(gray_image)\n",
        "                class_list.append(class_index)\n",
        "\n",
        "images = np.array(images)\n",
        "class_list = np.array(class_list)\n",
        "\n",
        "print(f\"Total images loaded: {len(images)}\")\n",
        "print(f\"Total classes: {len(np.unique(class_list))}\")"
      ]
    },
    {
      "cell_type": "markdown",
      "metadata": {
        "id": "B-ekHZOcjVsP"
      },
      "source": [
        "## Feature Extraction"
      ]
    },
    {
      "cell_type": "code",
      "execution_count": null,
      "metadata": {
        "id": "dLRw2bz1jX9T"
      },
      "outputs": [],
      "source": [
        "#Library\n",
        "from skimage.feature import hog, graycomatrix, graycoprops\n",
        "from skimage import img_as_ubyte"
      ]
    },
    {
      "cell_type": "markdown",
      "metadata": {
        "id": "h6IMQ-epjgkT"
      },
      "source": [
        "### HOG"
      ]
    },
    {
      "cell_type": "code",
      "execution_count": null,
      "metadata": {
        "id": "4iLldagJjjXh"
      },
      "outputs": [],
      "source": [
        "#Parameter\n",
        "ORIENTATIONS8 = 8\n",
        "ORIENTATIONS9 = 9\n",
        "PIXEL_PER_CELL16 = (16,16)\n",
        "PIXEL_PER_CELL8 = (8,8)"
      ]
    },
    {
      "cell_type": "code",
      "execution_count": null,
      "metadata": {
        "id": "l_gE5rQQWrBU"
      },
      "outputs": [],
      "source": [
        "def HOG(data):\n",
        "  HOG_FEATURES = []\n",
        "  for image in data:\n",
        "    features = hog(image,\n",
        "                   orientations=8,\n",
        "                   pixels_per_cell=(16,16),\n",
        "                   cells_per_block=(2,2),\n",
        "                   block_norm='L2-Hys',\n",
        "                   visualize= False)\n",
        "    HOG_FEATURES.append(features)\n",
        "  return HOG_FEATURES\n",
        "\n"
      ]
    },
    {
      "cell_type": "markdown",
      "metadata": {
        "id": "k2MmbIgtnD8u"
      },
      "source": [
        "### Color Histogram"
      ]
    },
    {
      "cell_type": "code",
      "execution_count": null,
      "metadata": {
        "id": "eMVZS1-jpdtv"
      },
      "outputs": [],
      "source": [
        "def Color_HIST(data):\n",
        "    HIST_FEATURES = []\n",
        "    for image in data:\n",
        "\n",
        "        image_rgb = cv2.cvtColor(image, cv2.COLOR_GRAY2RGB)\n",
        "\n",
        "        image_hsv = cv2.cvtColor(image_rgb, cv2.COLOR_RGB2HSV)\n",
        "\n",
        "        hist_h = cv2.calcHist([image_hsv], [0], None, [256], [0, 256])\n",
        "        hist_s = cv2.calcHist([image_hsv], [1], None, [256], [0, 256])\n",
        "        hist_v = cv2.calcHist([image_hsv], [2], None, [256], [0, 256])\n",
        "\n",
        "        hist_h /= hist_h.sum()\n",
        "        hist_s /= hist_s.sum()\n",
        "        hist_v /= hist_v.sum()\n",
        "\n",
        "        features = np.concatenate((hist_h, hist_s, hist_v), axis=0)\n",
        "\n",
        "        HIST_FEATURES.append(features.flatten())\n",
        "\n",
        "    return np.array(HIST_FEATURES)\n"
      ]
    },
    {
      "cell_type": "markdown",
      "metadata": {
        "id": "yx9prASZqi_H"
      },
      "source": [
        "### LBP"
      ]
    },
    {
      "cell_type": "code",
      "execution_count": null,
      "metadata": {
        "id": "9J2mPEJCqiND"
      },
      "outputs": [],
      "source": [
        "RADIUS1 = 1\n",
        "RADIUS2 = 2\n",
        "\n",
        "N_POINTS8 = 8\n",
        "N_POINTS16 = 16\n",
        "N_POINTS24 = 24\n"
      ]
    },
    {
      "cell_type": "code",
      "execution_count": null,
      "metadata": {
        "id": "-dYtIInrIR_w"
      },
      "outputs": [],
      "source": [
        "def lbp_histogram(lbp_image, num_bins=59):\n",
        "    lbp_hist, _ = np.histogram(lbp_image.ravel(), bins=np.arange(0, num_bins + 1), range=(0, num_bins))\n",
        "    lbp_hist = lbp_hist.astype('float')\n",
        "    lbp_hist /= lbp_hist.sum()\n",
        "    return lbp_hist\n",
        "\n",
        "lbp_features = []\n",
        "for image in images:\n",
        "    lbp = local_binary_pattern(image, N_POINTS, RADIUS, method='uniform')\n",
        "    lbp_hist = lbp_histogram(lbp)\n",
        "    lbp_features.append(lbp_hist)\n",
        "\n",
        "\n"
      ]
    },
    {
      "cell_type": "markdown",
      "metadata": {
        "id": "Zwcxf_4vvFXP"
      },
      "source": [
        "### GLCM"
      ]
    },
    {
      "cell_type": "code",
      "execution_count": null,
      "metadata": {
        "id": "MH7GuRqvMUsA"
      },
      "outputs": [],
      "source": [
        "def GLCM(data, distances=[1], angles=[0, np.pi/4, np.pi/2, 3*np.pi/4], levels=256):\n",
        "    GLCM_FEATURES = []\n",
        "\n",
        "    for image in data:\n",
        "\n",
        "        image_uint8 = img_as_ubyte(image)\n",
        "\n",
        "        glcm = graycomatrix(image_uint8, distances=distances, angles=angles, levels=levels, symmetric=True, normed=True)\n",
        "\n",
        "        contrast = graycoprops(glcm, prop='contrast').mean()\n",
        "        correlation = graycoprops(glcm, prop='correlation').mean()\n",
        "        energy = graycoprops(glcm, prop='energy').mean()\n",
        "        homogeneity = graycoprops(glcm, prop='homogeneity').mean()\n",
        "\n",
        "        features = [contrast, correlation, energy, homogeneity]\n",
        "\n",
        "        GLCM_FEATURES.append(features)\n",
        "\n",
        "    return np.array(GLCM_FEATURES)\n"
      ]
    },
    {
      "cell_type": "markdown",
      "metadata": {
        "id": "QnPz-rMIygy8"
      },
      "source": [
        "### Gabor Filters"
      ]
    },
    {
      "cell_type": "code",
      "execution_count": null,
      "metadata": {
        "id": "hIiudSx8MXiT"
      },
      "outputs": [],
      "source": [
        "def Gabor_Filters(data, ksize=31, sigma=4.0, lambda_=10.0, gamma=0.5, phi=0, orientations=[0, np.pi/4, np.pi/2, 3*np.pi/4]):\n",
        "    GABOR_FEATURES = []\n",
        "\n",
        "    for image in data:\n",
        "\n",
        "        features_per_image = []\n",
        "\n",
        "        for theta in orientations:\n",
        "\n",
        "            gabor_kernel = cv2.getGaborKernel((ksize, ksize), sigma, theta, lambda_, gamma, phi)\n",
        "\n",
        "            filtered_image = cv2.filter2D(image, cv2.CV_8UC3, gabor_kernel)\n",
        "\n",
        "            energy = np.sum(filtered_image**2)\n",
        "            mean = np.mean(filtered_image)\n",
        "            variance = np.var(filtered_image)\n",
        "\n",
        "            features_per_image.extend([energy, mean, variance])\n",
        "\n",
        "        GABOR_FEATURES.append(features_per_image)\n",
        "\n",
        "    return np.array(GABOR_FEATURES)\n"
      ]
    },
    {
      "cell_type": "code",
      "execution_count": null,
      "metadata": {
        "id": "wB2KjXDT_lOK"
      },
      "outputs": [],
      "source": [
        "hog_features = HOG(images)\n",
        "hog_features = np.array(hog_features)\n",
        "glcm_features = GLCM(images)\n",
        "gabor_features = Gabor_Filters(images)\n",
        "\n",
        "lbp_features = np.array(lbp_features)\n",
        "color_hist_features = Color_HIST(images)\n"
      ]
    },
    {
      "cell_type": "code",
      "execution_count": null,
      "metadata": {
        "id": "9_pX3-opJl-5",
        "colab": {
          "base_uri": "https://localhost:8080/"
        },
        "outputId": "667d1283-bc5d-469d-d381-bf463d21712a"
      },
      "outputs": [
        {
          "output_type": "stream",
          "name": "stdout",
          "text": [
            "LBP Features Shape: (1218, 59)\n",
            "HOG Features Shape: (1218, 5408)\n",
            "GLCM Features Shape: (1218, 4)\n",
            "Gabor Features Shape: (1218, 12)\n",
            "Color Hist Features Shape: (1218, 768)\n"
          ]
        }
      ],
      "source": [
        "print(f\"LBP Features Shape: {lbp_features.shape}\")\n",
        "print(f\"HOG Features Shape: {hog_features.shape}\")\n",
        "print(f\"GLCM Features Shape: {glcm_features.shape}\")\n",
        "print(f\"Gabor Features Shape: {gabor_features.shape}\")\n",
        "print(f\"Color Hist Features Shape: {color_hist_features.shape}\")"
      ]
    },
    {
      "cell_type": "markdown",
      "metadata": {
        "id": "BW58aTe0S14D"
      },
      "source": [
        "### Combined_features1 = HOG + LBP + GLCM\n",
        "### Combined_features2 = Color Histogram + Gabor Filters + LBP\n",
        "### Combined_features3 = HOG + LBP + SIFT + Color Histogram"
      ]
    },
    {
      "cell_type": "code",
      "execution_count": null,
      "metadata": {
        "id": "ZmhBqAAZJiwO"
      },
      "outputs": [],
      "source": [
        "combined_features = np.concatenate((gabor_features,hog_features,color_hist_features),axis=1)\n",
        "combined_features2 = np.concatenate((lbp_features,hog_features,glcm_features),axis=1)\n",
        "combined_features3 = np.concatenate((lbp_features,gabor_features,color_hist_features),axis=1)\n",
        "combined_features4 = np.concatenate((lbp_features,hog_features,color_hist_features),axis=1)\n",
        "\n",
        "combined_features5 = np.concatenate((lbp_features,color_hist_features),axis=1)\n",
        "combined_features6 = np.concatenate((gabor_features,hog_features),axis=1)\n",
        "combined_features7 = np.concatenate((gabor_features,color_hist_features),axis=1)\n",
        "combined_features8 = np.concatenate((lbp_features,color_hist_features),axis=1)\n",
        "\n",
        "\n"
      ]
    },
    {
      "cell_type": "code",
      "execution_count": null,
      "metadata": {
        "id": "1N0wco8vNG-f"
      },
      "outputs": [],
      "source": [
        "x_train_hog, x_test_hog, y_train_hog, y_test_hog = train_test_split(hog_features, class_list, test_size=0.2, random_state=42)\n",
        "x_train_lbp, x_test_lbp, y_train_lbp, y_test_lbp = train_test_split(lbp_features, class_list, test_size=0.2, random_state=42)\n",
        "x_train_glcm, x_test_glcm, y_train_glcm, y_test_glcm = train_test_split(glcm_features, class_list, test_size=0.2, random_state=42)\n",
        "x_train_gabor, x_test_gabor, y_train_gabor, y_test_gabor = train_test_split(gabor_features, class_list, test_size=0.2, random_state=42)\n",
        "x_train_color_hist, x_test_color_hist, y_train_color_hist, y_test_color_hist = train_test_split(color_hist_features, class_list, test_size=0.2, random_state=42)\n",
        "\n",
        "\n"
      ]
    },
    {
      "cell_type": "code",
      "execution_count": null,
      "metadata": {
        "id": "fjPTPiPXJJap",
        "colab": {
          "base_uri": "https://localhost:8080/"
        },
        "outputId": "f9b59f9d-7b99-47ef-d66e-0ec02102ac27"
      },
      "outputs": [
        {
          "output_type": "stream",
          "name": "stdout",
          "text": [
            "Shape of X_train (Combined Features Gabor + HOG + Color Hist): (974, 6188)\n",
            "Shape of x_train (Combined Features HOG + LBP + GLCM): (974, 5471)\n",
            "Shape of x_train (Combined Features LBP + Gabor + Color Hist): (974, 839)\n",
            "Shape of x_train (Combined Features HOG + LBP + Color Hist): (974, 6235)\n",
            "Shape of X_train (Combined Features LBP + Color Hist): (974, 827)\n"
          ]
        }
      ],
      "source": [
        "X_train, X_test, y_train, y_test = train_test_split(combined_features, class_list, test_size=0.2, random_state=42)\n",
        "print(f\"Shape of X_train (Combined Features Gabor + HOG + Color Hist): {X_train.shape}\")\n",
        "\n",
        "X_train2, X_test2, y_train2, y_test2 = train_test_split(combined_features2, class_list, test_size=0.2, random_state=42)\n",
        "print(f\"Shape of x_train (Combined Features HOG + LBP + GLCM): {X_train2.shape}\")\n",
        "\n",
        "X_train3, X_test3, y_train3, y_test3 = train_test_split(combined_features3, class_list, test_size=0.2, random_state=42)\n",
        "print(f\"Shape of x_train (Combined Features LBP + Gabor + Color Hist): {X_train3.shape}\")\n",
        "\n",
        "X_train4, X_test4, y_train4, y_test4 = train_test_split(combined_features4, class_list, test_size=0.2, random_state=42)\n",
        "print(f\"Shape of x_train (Combined Features HOG + LBP + Color Hist): {X_train4.shape}\")\n",
        "\n",
        "X_train5, X_test5, y_train5, y_test5 = train_test_split(combined_features5, class_list, test_size=0.2, random_state=42)\n",
        "print(f\"Shape of X_train (Combined Features LBP + Color Hist): {X_train5.shape}\")\n",
        "\n",
        "\n",
        "\n",
        "\n"
      ]
    },
    {
      "cell_type": "code",
      "execution_count": null,
      "metadata": {
        "id": "p2cpkjRkZDNq"
      },
      "outputs": [],
      "source": [
        "from sklearn.model_selection import GridSearchCV\n",
        "param_grid = {\n",
        "    'n_estimators': [100, 200], #, 500, 1000\n",
        "    'max_depth': [None, 10, 20], #, 30\n",
        "    'min_samples_split': [2, 5], #, 10\n",
        "    'min_samples_leaf': [1, 2], #, 4\n",
        "    'max_features': [ 'sqrt', 'log2']\n",
        "}\n",
        "\n",
        "param_grid2 = {\n",
        "    'n_estimators': [500, 1000], #, 500, 1000\n",
        "    'max_depth': [20, 30], #, 30\n",
        "    'min_samples_split': [5,10], #, 10\n",
        "    'min_samples_leaf': [2,4], #, 4\n",
        "    'max_features': ['sqrt', 'log2']\n",
        "}\n",
        "\n",
        "\n",
        "# rf_model = GridSearchCV(estimator=RandomForestClassifier(random_state=0), param_grid=param_grid, cv=3, n_jobs=-1)\n",
        "rf_model = RandomForestClassifier(n_estimators=901,min_samples_split=2,min_samples_leaf=1, random_state=0)"
      ]
    },
    {
      "cell_type": "markdown",
      "metadata": {
        "id": "tgqWMo2jVmUH"
      },
      "source": [
        "### Combined Training"
      ]
    },
    {
      "cell_type": "code",
      "execution_count": null,
      "metadata": {
        "id": "yii0UvPZJS5V",
        "colab": {
          "base_uri": "https://localhost:8080/"
        },
        "outputId": "88394ae2-597c-4945-cbc0-a5ace5b98fb3"
      },
      "outputs": [
        {
          "output_type": "stream",
          "name": "stdout",
          "text": [
            "Accuracy: 41.39%\n",
            "                          precision    recall  f1-score   support\n",
            "\n",
            "               Alveopora       0.00      0.00      0.00        20\n",
            "                Ricordea       0.28      0.54      0.37        26\n",
            "    Dendrogyra cylindrus       0.61      0.65      0.63        17\n",
            "               Discosoma       0.25      0.09      0.14        32\n",
            "               Euphyllia       0.32      0.38      0.35        26\n",
            "              Cyphastrea       0.67      0.11      0.18        19\n",
            "                Palythoa       1.00      0.17      0.29         6\n",
            "Heliofungia actiniformis       0.93      0.61      0.74        23\n",
            "     Caulastraea Furcata       0.60      0.60      0.60        25\n",
            "       Diploria Strigosa       0.42      0.77      0.54        30\n",
            "    Acropora Cervicornis       0.26      0.40      0.31        20\n",
            "\n",
            "                accuracy                           0.41       244\n",
            "               macro avg       0.49      0.39      0.38       244\n",
            "            weighted avg       0.44      0.41      0.38       244\n",
            "\n"
          ]
        }
      ],
      "source": [
        "rf_model.fit(X_train, y_train)\n",
        "# print(rf_model.best_params_)\n",
        "\n",
        "# Evaluate\n",
        "y_pred = rf_model.predict(X_test)\n",
        "accuracy = accuracy_score(y_test, y_pred)\n",
        "print(f\"Accuracy: {accuracy * 100:.2f}%\")\n",
        "print(classification_report(y_test, y_pred,target_names=os.listdir('/content/drive/MyDrive/dataset-coral-baru')))"
      ]
    },
    {
      "cell_type": "code",
      "execution_count": null,
      "metadata": {
        "id": "ci4MUN1iVbsP",
        "colab": {
          "base_uri": "https://localhost:8080/"
        },
        "outputId": "a95cad45-5682-431a-df80-3fae7f8e4acb"
      },
      "outputs": [
        {
          "output_type": "stream",
          "name": "stdout",
          "text": [
            "Accuracy for Combined Features HOG + LBP + GLCM: 40.16%\n",
            "                          precision    recall  f1-score   support\n",
            "\n",
            "               Alveopora       0.00      0.00      0.00        20\n",
            "                Ricordea       0.24      0.58      0.34        26\n",
            "    Dendrogyra cylindrus       0.60      0.53      0.56        17\n",
            "               Discosoma       0.25      0.06      0.10        32\n",
            "               Euphyllia       0.56      0.38      0.45        26\n",
            "              Cyphastrea       0.00      0.00      0.00        19\n",
            "                Palythoa       1.00      0.17      0.29         6\n",
            "Heliofungia actiniformis       0.75      0.65      0.70        23\n",
            "     Caulastraea Furcata       0.46      0.72      0.56        25\n",
            "       Diploria Strigosa       0.39      0.60      0.47        30\n",
            "    Acropora Cervicornis       0.33      0.50      0.40        20\n",
            "\n",
            "                accuracy                           0.40       244\n",
            "               macro avg       0.42      0.38      0.35       244\n",
            "            weighted avg       0.38      0.40      0.36       244\n",
            "\n"
          ]
        }
      ],
      "source": [
        "rf_model.fit(X_train2, y_train2)\n",
        "# print(rf_model.best_params_)\n",
        "\n",
        "y_pred2 = rf_model.predict(X_test2)\n",
        "accuracy2 = accuracy_score(y_test2, y_pred2)\n",
        "print(f\"Accuracy for Combined Features HOG + LBP + GLCM: {accuracy2 * 100:.2f}%\")\n",
        "print(classification_report(y_test2, y_pred2, target_names=os.listdir('/content/drive/MyDrive/dataset-coral-baru')))"
      ]
    },
    {
      "cell_type": "code",
      "execution_count": null,
      "metadata": {
        "id": "MQOFAC4dVeeX",
        "colab": {
          "base_uri": "https://localhost:8080/"
        },
        "outputId": "636db72d-6a7a-4d1f-c267-99922a0a9435"
      },
      "outputs": [
        {
          "output_type": "stream",
          "name": "stdout",
          "text": [
            "Accuracy for Combined Features LBP + Gabor + Color Hist: 43.44%\n",
            "                          precision    recall  f1-score   support\n",
            "\n",
            "               Alveopora       0.22      0.10      0.14        20\n",
            "                Ricordea       0.38      0.42      0.40        26\n",
            "    Dendrogyra cylindrus       0.43      0.53      0.47        17\n",
            "               Discosoma       0.42      0.16      0.23        32\n",
            "               Euphyllia       0.46      0.46      0.46        26\n",
            "              Cyphastrea       0.57      0.21      0.31        19\n",
            "                Palythoa       0.75      0.50      0.60         6\n",
            "Heliofungia actiniformis       0.58      0.48      0.52        23\n",
            "     Caulastraea Furcata       0.41      0.64      0.50        25\n",
            "       Diploria Strigosa       0.42      0.57      0.49        30\n",
            "    Acropora Cervicornis       0.42      0.80      0.55        20\n",
            "\n",
            "                accuracy                           0.43       244\n",
            "               macro avg       0.46      0.44      0.42       244\n",
            "            weighted avg       0.44      0.43      0.41       244\n",
            "\n"
          ]
        }
      ],
      "source": [
        "rf_model.fit(X_train3, y_train3)\n",
        "# print(rf_model.best_params_)\n",
        "\n",
        "y_pred3 = rf_model.predict(X_test3)\n",
        "accuracy3 = accuracy_score(y_test3, y_pred3)\n",
        "print(f\"Accuracy for Combined Features LBP + Gabor + Color Hist: {accuracy3 * 100:.2f}%\")\n",
        "print(classification_report(y_test3, y_pred3, target_names=os.listdir('/content/drive/MyDrive/dataset-coral-baru')))"
      ]
    },
    {
      "cell_type": "code",
      "execution_count": null,
      "metadata": {
        "id": "p16tEgJ1ViZK",
        "colab": {
          "base_uri": "https://localhost:8080/"
        },
        "outputId": "45addaf5-f8a5-4cbb-edfc-55b1c10af39f"
      },
      "outputs": [
        {
          "output_type": "stream",
          "name": "stdout",
          "text": [
            "Accuracy for Combined Features HOG + LBP + Color Hist: 44.67%\n",
            "                          precision    recall  f1-score   support\n",
            "\n",
            "               Alveopora       0.67      0.10      0.17        20\n",
            "                Ricordea       0.33      0.65      0.44        26\n",
            "    Dendrogyra cylindrus       0.59      0.59      0.59        17\n",
            "               Discosoma       0.36      0.12      0.19        32\n",
            "               Euphyllia       0.34      0.38      0.36        26\n",
            "              Cyphastrea       1.00      0.05      0.10        19\n",
            "                Palythoa       1.00      0.17      0.29         6\n",
            "Heliofungia actiniformis       0.87      0.57      0.68        23\n",
            "     Caulastraea Furcata       0.52      0.60      0.56        25\n",
            "       Diploria Strigosa       0.43      0.83      0.57        30\n",
            "    Acropora Cervicornis       0.38      0.55      0.45        20\n",
            "\n",
            "                accuracy                           0.45       244\n",
            "               macro avg       0.59      0.42      0.40       244\n",
            "            weighted avg       0.54      0.45      0.41       244\n",
            "\n"
          ]
        }
      ],
      "source": [
        "rf_model.fit(X_train4, y_train4)\n",
        "# print(rf_model.best_params_)\n",
        "\n",
        "y_pred4 = rf_model.predict(X_test4)\n",
        "accuracy4 = accuracy_score(y_test4, y_pred4)\n",
        "print(f\"Accuracy for Combined Features HOG + LBP + Color Hist: {accuracy4 * 100:.2f}%\")\n",
        "print(classification_report(y_test4, y_pred4, target_names=os.listdir('/content/drive/MyDrive/dataset-coral-baru')))\n",
        "print(classification_report(y_test2, y_pred2, target_names=os.listdir('/content/drive/MyDrive/Computer Vision/dataset-coral-baru')))"
      ]
    },
    {
      "cell_type": "code",
      "source": [
        "rf_model.fit(X_train5, y_train5)\n",
        "# print(rf_model.best_params_)\n",
        "\n",
        "y_pred5 = rf_model.predict(X_test5)\n",
        "accuracy5 = accuracy_score(y_test5, y_pred5)\n",
        "print(f\"Accuracy for Combined Features LBP+COLOR_HIST: {accuracy5 * 100:.2f}%\")\n",
        "print(classification_report(y_test6, y_pred6, target_names=os.listdir('/content/drive/MyDrive/dataset-coral-baru')))\n"
      ],
      "metadata": {
        "id": "AqIO-2wQyy1f",
        "colab": {
          "base_uri": "https://localhost:8080/"
        },
        "outputId": "6a072e86-bf8b-4960-bd68-0d1ad3ba8106"
      },
      "execution_count": null,
      "outputs": [
        {
          "output_type": "stream",
          "name": "stdout",
          "text": [
            "Accuracy for Combined Features LBP+COLOR_HIST: 38.11%\n",
            "                          precision    recall  f1-score   support\n",
            "\n",
            "               Alveopora       0.00      0.00      0.00        20\n",
            "                Ricordea       0.23      0.58      0.33        26\n",
            "    Dendrogyra cylindrus       0.91      0.59      0.71        17\n",
            "               Discosoma       0.20      0.06      0.10        32\n",
            "               Euphyllia       0.35      0.42      0.39        26\n",
            "              Cyphastrea       0.50      0.05      0.10        19\n",
            "                Palythoa       1.00      0.17      0.29         6\n",
            "Heliofungia actiniformis       0.67      0.52      0.59        23\n",
            "     Caulastraea Furcata       0.43      0.40      0.42        25\n",
            "       Diploria Strigosa       0.43      0.77      0.55        30\n",
            "    Acropora Cervicornis       0.31      0.45      0.37        20\n",
            "\n",
            "                accuracy                           0.39       244\n",
            "               macro avg       0.46      0.36      0.35       244\n",
            "            weighted avg       0.40      0.39      0.35       244\n",
            "\n"
          ]
        }
      ]
    },
    {
      "cell_type": "code",
      "execution_count": null,
      "metadata": {
        "id": "LXkM_05uVuDE",
        "colab": {
          "base_uri": "https://localhost:8080/"
        },
        "outputId": "b0742f56-bd7e-48b9-e000-fdb5a1c05a01"
      },
      "outputs": [
        {
          "output_type": "stream",
          "name": "stdout",
          "text": [
            "DENGAN CLAHE PARAM GRID2\n",
            "Accuracy Gabor + HOG + Color Hist: 41.39%\n",
            "Accuracy HOG + LBP + GLCM : 40.16%\n",
            "Accuracy LBP + Gabor + Color Hist: 43.44%\n",
            "Accuracy HOG + LBP + Color Hist: 44.67%\n",
            "Accuracy LBP + Color Hist: 38.11%\n"
          ]
        }
      ],
      "source": [
        "print(\"DENGAN CLAHE PARAM GRID2\")\n",
        "print(f\"Accuracy Gabor + HOG + Color Hist: {accuracy * 100:.2f}%\")\n",
        "print(f\"Accuracy HOG + LBP + GLCM : {accuracy2 * 100:.2f}%\")\n",
        "print(f\"Accuracy LBP + Gabor + Color Hist: {accuracy3 * 100:.2f}%\")\n",
        "print(f\"Accuracy HOG + LBP + Color Hist: {accuracy4 * 100:.2f}%\")\n",
        "print(f\"Accuracy LBP + Color Hist: {accuracy5 * 100:.2f}%\")\n",
        "\n",
        "\n"
      ]
    },
    {
      "cell_type": "markdown",
      "metadata": {
        "id": "eJrYgsLEVqiX"
      },
      "source": [
        "### Single Training"
      ]
    },
    {
      "cell_type": "code",
      "execution_count": null,
      "metadata": {
        "id": "08VKYUe4AQnt",
        "colab": {
          "base_uri": "https://localhost:8080/"
        },
        "outputId": "f3e275a9-3fca-4cbe-b24d-d8d293a60ac6"
      },
      "outputs": [
        {
          "output_type": "stream",
          "name": "stdout",
          "text": [
            "Accuracy for HOG: 34.84%\n",
            "                          precision    recall  f1-score   support\n",
            "\n",
            "               Alveopora       0.25      0.05      0.08        20\n",
            "                Ricordea       0.24      0.58      0.34        26\n",
            "    Dendrogyra cylindrus       1.00      0.24      0.38        17\n",
            "               Discosoma       0.30      0.09      0.14        32\n",
            "               Euphyllia       0.47      0.31      0.37        26\n",
            "              Cyphastrea       0.00      0.00      0.00        19\n",
            "                Palythoa       1.00      0.17      0.29         6\n",
            "Heliofungia actiniformis       0.71      0.52      0.60        23\n",
            "     Caulastraea Furcata       0.54      0.56      0.55        25\n",
            "       Diploria Strigosa       0.30      0.60      0.40        30\n",
            "    Acropora Cervicornis       0.23      0.45      0.30        20\n",
            "\n",
            "                accuracy                           0.35       244\n",
            "               macro avg       0.46      0.32      0.31       244\n",
            "            weighted avg       0.41      0.35      0.32       244\n",
            "\n"
          ]
        }
      ],
      "source": [
        "rf_model.fit(x_train_hog, y_train_hog)\n",
        "y_pred_hog = rf_model.predict(x_test_hog)\n",
        "accuracy_hog = accuracy_score(y_test_hog, y_pred_hog)\n",
        "print(f\"Accuracy for HOG: {accuracy_hog * 100:.2f}%\")\n",
        "print(classification_report(y_test_hog, y_pred_hog, target_names=os.listdir('/content/drive/MyDrive/dataset-coral-baru')))"
      ]
    },
    {
      "cell_type": "code",
      "execution_count": null,
      "metadata": {
        "id": "oc0Lp9qZN-7_",
        "colab": {
          "base_uri": "https://localhost:8080/"
        },
        "outputId": "78a81927-7dea-465f-faeb-ac37e75ffadd"
      },
      "outputs": [
        {
          "output_type": "stream",
          "name": "stdout",
          "text": [
            "Accuracy for LBP: 30.74%\n",
            "                          precision    recall  f1-score   support\n",
            "\n",
            "               Alveopora       0.15      0.10      0.12        20\n",
            "                Ricordea       0.38      0.23      0.29        26\n",
            "    Dendrogyra cylindrus       0.41      0.65      0.50        17\n",
            "               Discosoma       0.06      0.03      0.04        32\n",
            "               Euphyllia       0.30      0.35      0.32        26\n",
            "              Cyphastrea       0.31      0.26      0.29        19\n",
            "                Palythoa       0.29      0.33      0.31         6\n",
            "Heliofungia actiniformis       0.35      0.30      0.33        23\n",
            "     Caulastraea Furcata       0.33      0.36      0.35        25\n",
            "       Diploria Strigosa       0.30      0.43      0.35        30\n",
            "    Acropora Cervicornis       0.38      0.50      0.43        20\n",
            "\n",
            "                accuracy                           0.31       244\n",
            "               macro avg       0.30      0.32      0.30       244\n",
            "            weighted avg       0.29      0.31      0.29       244\n",
            "\n"
          ]
        }
      ],
      "source": [
        "rf_model.fit(x_train_lbp, y_train_lbp)\n",
        "y_pred_lbp = rf_model.predict(x_test_lbp)\n",
        "accuracy_lbp = accuracy_score(y_test_lbp, y_pred_lbp)\n",
        "print(f\"Accuracy for LBP: {accuracy_lbp * 100:.2f}%\")\n",
        "print(classification_report(y_test_lbp, y_pred_lbp, target_names=os.listdir('/content/drive/MyDrive/dataset-coral-baru')))\n"
      ]
    },
    {
      "cell_type": "code",
      "execution_count": null,
      "metadata": {
        "id": "8PlWi_HmOAv-",
        "colab": {
          "base_uri": "https://localhost:8080/"
        },
        "outputId": "c700146a-3a22-4187-8b90-96dad64598a5"
      },
      "outputs": [
        {
          "output_type": "stream",
          "name": "stdout",
          "text": [
            "Accuracy for GLCM: 27.05%\n",
            "                          precision    recall  f1-score   support\n",
            "\n",
            "               Alveopora       0.11      0.15      0.13        20\n",
            "                Ricordea       0.21      0.23      0.22        26\n",
            "    Dendrogyra cylindrus       0.40      0.35      0.38        17\n",
            "               Discosoma       0.00      0.00      0.00        32\n",
            "               Euphyllia       0.29      0.27      0.28        26\n",
            "              Cyphastrea       0.27      0.16      0.20        19\n",
            "                Palythoa       0.17      0.17      0.17         6\n",
            "Heliofungia actiniformis       0.44      0.30      0.36        23\n",
            "     Caulastraea Furcata       0.35      0.48      0.41        25\n",
            "       Diploria Strigosa       0.28      0.40      0.33        30\n",
            "    Acropora Cervicornis       0.32      0.45      0.38        20\n",
            "\n",
            "                accuracy                           0.27       244\n",
            "               macro avg       0.26      0.27      0.26       244\n",
            "            weighted avg       0.25      0.27      0.26       244\n",
            "\n"
          ]
        }
      ],
      "source": [
        "rf_model.fit(x_train_glcm, y_train_glcm)\n",
        "y_pred_glcm = rf_model.predict(x_test_glcm)\n",
        "accuracy_glcm = accuracy_score(y_test_glcm, y_pred_glcm)\n",
        "print(f\"Accuracy for GLCM: {accuracy_glcm * 100:.2f}%\")\n",
        "print(classification_report(y_test_glcm, y_pred_glcm, target_names=os.listdir('/content/drive/MyDrive/dataset-coral-baru')))"
      ]
    },
    {
      "cell_type": "code",
      "execution_count": null,
      "metadata": {
        "id": "yCuPXhHHOE-p",
        "colab": {
          "base_uri": "https://localhost:8080/"
        },
        "outputId": "192bcc74-2606-4498-ff40-5cf388ed7c10"
      },
      "outputs": [
        {
          "output_type": "stream",
          "name": "stdout",
          "text": [
            "Accuracy for Gabor: 30.33%\n",
            "                          precision    recall  f1-score   support\n",
            "\n",
            "               Alveopora       0.16      0.15      0.15        20\n",
            "                Ricordea       0.23      0.27      0.25        26\n",
            "    Dendrogyra cylindrus       0.47      0.53      0.50        17\n",
            "               Discosoma       0.17      0.12      0.14        32\n",
            "               Euphyllia       0.20      0.19      0.20        26\n",
            "              Cyphastrea       0.18      0.11      0.13        19\n",
            "                Palythoa       0.25      0.17      0.20         6\n",
            "Heliofungia actiniformis       0.41      0.30      0.35        23\n",
            "     Caulastraea Furcata       0.36      0.32      0.34        25\n",
            "       Diploria Strigosa       0.51      0.67      0.58        30\n",
            "    Acropora Cervicornis       0.24      0.40      0.30        20\n",
            "\n",
            "                accuracy                           0.30       244\n",
            "               macro avg       0.29      0.29      0.29       244\n",
            "            weighted avg       0.29      0.30      0.29       244\n",
            "\n"
          ]
        }
      ],
      "source": [
        "rf_model.fit(x_train_gabor, y_train_gabor)\n",
        "y_pred_gabor = rf_model.predict(x_test_gabor)\n",
        "accuracy_gabor = accuracy_score(y_test_gabor, y_pred_gabor)\n",
        "print(f\"Accuracy for Gabor: {accuracy_gabor * 100:.2f}%\")\n",
        "print(classification_report(y_test_gabor, y_pred_gabor, target_names=os.listdir('/content/drive/MyDrive/dataset-coral-baru')))"
      ]
    },
    {
      "cell_type": "code",
      "source": [
        "rf_model.fit(x_train_color_hist, y_train_color_hist)\n",
        "y_pred_color_hist = rf_model.predict(x_test_color_hist)\n",
        "accuracy_color_hist = accuracy_score(y_test_color_hist, y_pred_color_hist)\n",
        "print(f\"Accuracy for Gabor: {accuracy_color_hist * 100:.2f}%\")\n",
        "print(classification_report(y_test_color_hist, y_pred_color_hist, target_names=os.listdir('/content/drive/MyDrive/dataset-coral-baru')))"
      ],
      "metadata": {
        "id": "0n-8aUJfuo08",
        "colab": {
          "base_uri": "https://localhost:8080/"
        },
        "outputId": "314728aa-c8f0-472d-afb7-4d2a8855ee24"
      },
      "execution_count": null,
      "outputs": [
        {
          "output_type": "stream",
          "name": "stdout",
          "text": [
            "Accuracy for Gabor: 34.43%\n",
            "                          precision    recall  f1-score   support\n",
            "\n",
            "               Alveopora       0.57      0.20      0.30        20\n",
            "                Ricordea       0.22      0.23      0.23        26\n",
            "    Dendrogyra cylindrus       0.40      0.47      0.43        17\n",
            "               Discosoma       0.24      0.12      0.16        32\n",
            "               Euphyllia       0.38      0.38      0.38        26\n",
            "              Cyphastrea       0.40      0.11      0.17        19\n",
            "                Palythoa       0.33      0.17      0.22         6\n",
            "Heliofungia actiniformis       0.34      0.43      0.38        23\n",
            "     Caulastraea Furcata       0.32      0.44      0.37        25\n",
            "       Diploria Strigosa       0.40      0.57      0.47        30\n",
            "    Acropora Cervicornis       0.33      0.55      0.42        20\n",
            "\n",
            "                accuracy                           0.34       244\n",
            "               macro avg       0.36      0.33      0.32       244\n",
            "            weighted avg       0.35      0.34      0.33       244\n",
            "\n"
          ]
        }
      ]
    },
    {
      "cell_type": "code",
      "execution_count": null,
      "metadata": {
        "id": "iWQhvHwtOG_r",
        "colab": {
          "base_uri": "https://localhost:8080/"
        },
        "outputId": "01bd5e46-beec-4220-d753-a4da94fcb3b1"
      },
      "outputs": [
        {
          "output_type": "stream",
          "name": "stdout",
          "text": [
            "DENGAN CLAHE\n",
            "Accuracy HOG: 34.84%\n",
            "Accuracy LBP: 30.74%\n",
            "Accuracy GLCM: 27.05%\n",
            "Accuracy Gabor: 30.33%\n",
            "Accuracy Color_hist: 34.43%\n"
          ]
        }
      ],
      "source": [
        "print(\"DENGAN CLAHE\")\n",
        "print(f\"Accuracy HOG: {accuracy_hog * 100:.2f}%\")\n",
        "print(f\"Accuracy LBP: {accuracy_lbp * 100:.2f}%\")\n",
        "print(f\"Accuracy GLCM: {accuracy_glcm * 100:.2f}%\")\n",
        "print(f\"Accuracy Gabor: {accuracy_gabor * 100:.2f}%\")\n",
        "print(f\"Accuracy Color_hist: {accuracy_color_hist * 100:.2f}%\")"
      ]
    },
    {
      "cell_type": "code",
      "execution_count": null,
      "metadata": {
        "id": "PIPaduipQxAd"
      },
      "outputs": [],
      "source": []
    }
  ],
  "metadata": {
    "colab": {
      "provenance": [],
      "machine_shape": "hm"
    },
    "kernelspec": {
      "display_name": "Python 3",
      "name": "python3"
    },
    "language_info": {
      "name": "python"
    }
  },
  "nbformat": 4,
  "nbformat_minor": 0
}