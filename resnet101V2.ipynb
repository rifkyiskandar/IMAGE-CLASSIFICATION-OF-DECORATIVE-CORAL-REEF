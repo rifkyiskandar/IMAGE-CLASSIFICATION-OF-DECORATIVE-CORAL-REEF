{
  "nbformat": 4,
  "nbformat_minor": 0,
  "metadata": {
    "colab": {
      "provenance": [],
      "gpuType": "T4"
    },
    "kernelspec": {
      "name": "python3",
      "display_name": "Python 3"
    },
    "language_info": {
      "name": "python"
    },
    "accelerator": "GPU"
  },
  "cells": [
    {
      "cell_type": "code",
      "source": [
        "!pip install --upgrade tensorflow==2.15.0"
      ],
      "metadata": {
        "colab": {
          "base_uri": "https://localhost:8080/",
          "height": 1000
        },
        "id": "imAgATLDeuK6",
        "outputId": "c8224a9b-fe72-4e46-cc0c-b01a2bd1cf5d"
      },
      "execution_count": null,
      "outputs": [
        {
          "output_type": "stream",
          "name": "stdout",
          "text": [
            "Collecting tensorflow==2.15.0\n",
            "  Downloading tensorflow-2.15.0-cp310-cp310-manylinux_2_17_x86_64.manylinux2014_x86_64.whl.metadata (4.4 kB)\n",
            "Requirement already satisfied: absl-py>=1.0.0 in /usr/local/lib/python3.10/dist-packages (from tensorflow==2.15.0) (1.4.0)\n",
            "Requirement already satisfied: astunparse>=1.6.0 in /usr/local/lib/python3.10/dist-packages (from tensorflow==2.15.0) (1.6.3)\n",
            "Requirement already satisfied: flatbuffers>=23.5.26 in /usr/local/lib/python3.10/dist-packages (from tensorflow==2.15.0) (24.3.25)\n",
            "Requirement already satisfied: gast!=0.5.0,!=0.5.1,!=0.5.2,>=0.2.1 in /usr/local/lib/python3.10/dist-packages (from tensorflow==2.15.0) (0.6.0)\n",
            "Requirement already satisfied: google-pasta>=0.1.1 in /usr/local/lib/python3.10/dist-packages (from tensorflow==2.15.0) (0.2.0)\n",
            "Requirement already satisfied: h5py>=2.9.0 in /usr/local/lib/python3.10/dist-packages (from tensorflow==2.15.0) (3.12.1)\n",
            "Requirement already satisfied: libclang>=13.0.0 in /usr/local/lib/python3.10/dist-packages (from tensorflow==2.15.0) (18.1.1)\n",
            "Collecting ml-dtypes~=0.2.0 (from tensorflow==2.15.0)\n",
            "  Downloading ml_dtypes-0.2.0-cp310-cp310-manylinux_2_17_x86_64.manylinux2014_x86_64.whl.metadata (20 kB)\n",
            "Requirement already satisfied: numpy<2.0.0,>=1.23.5 in /usr/local/lib/python3.10/dist-packages (from tensorflow==2.15.0) (1.26.4)\n",
            "Requirement already satisfied: opt-einsum>=2.3.2 in /usr/local/lib/python3.10/dist-packages (from tensorflow==2.15.0) (3.4.0)\n",
            "Requirement already satisfied: packaging in /usr/local/lib/python3.10/dist-packages (from tensorflow==2.15.0) (24.2)\n",
            "Requirement already satisfied: protobuf!=4.21.0,!=4.21.1,!=4.21.2,!=4.21.3,!=4.21.4,!=4.21.5,<5.0.0dev,>=3.20.3 in /usr/local/lib/python3.10/dist-packages (from tensorflow==2.15.0) (4.25.5)\n",
            "Requirement already satisfied: setuptools in /usr/local/lib/python3.10/dist-packages (from tensorflow==2.15.0) (75.1.0)\n",
            "Requirement already satisfied: six>=1.12.0 in /usr/local/lib/python3.10/dist-packages (from tensorflow==2.15.0) (1.17.0)\n",
            "Requirement already satisfied: termcolor>=1.1.0 in /usr/local/lib/python3.10/dist-packages (from tensorflow==2.15.0) (2.5.0)\n",
            "Requirement already satisfied: typing-extensions>=3.6.6 in /usr/local/lib/python3.10/dist-packages (from tensorflow==2.15.0) (4.12.2)\n",
            "Collecting wrapt<1.15,>=1.11.0 (from tensorflow==2.15.0)\n",
            "  Downloading wrapt-1.14.1-cp310-cp310-manylinux_2_5_x86_64.manylinux1_x86_64.manylinux_2_17_x86_64.manylinux2014_x86_64.whl.metadata (6.7 kB)\n",
            "Requirement already satisfied: tensorflow-io-gcs-filesystem>=0.23.1 in /usr/local/lib/python3.10/dist-packages (from tensorflow==2.15.0) (0.37.1)\n",
            "Requirement already satisfied: grpcio<2.0,>=1.24.3 in /usr/local/lib/python3.10/dist-packages (from tensorflow==2.15.0) (1.68.1)\n",
            "Collecting tensorboard<2.16,>=2.15 (from tensorflow==2.15.0)\n",
            "  Downloading tensorboard-2.15.2-py3-none-any.whl.metadata (1.7 kB)\n",
            "Collecting tensorflow-estimator<2.16,>=2.15.0 (from tensorflow==2.15.0)\n",
            "  Downloading tensorflow_estimator-2.15.0-py2.py3-none-any.whl.metadata (1.3 kB)\n",
            "Collecting keras<2.16,>=2.15.0 (from tensorflow==2.15.0)\n",
            "  Downloading keras-2.15.0-py3-none-any.whl.metadata (2.4 kB)\n",
            "Requirement already satisfied: wheel<1.0,>=0.23.0 in /usr/local/lib/python3.10/dist-packages (from astunparse>=1.6.0->tensorflow==2.15.0) (0.45.1)\n",
            "Requirement already satisfied: google-auth<3,>=1.6.3 in /usr/local/lib/python3.10/dist-packages (from tensorboard<2.16,>=2.15->tensorflow==2.15.0) (2.27.0)\n",
            "Requirement already satisfied: google-auth-oauthlib<2,>=0.5 in /usr/local/lib/python3.10/dist-packages (from tensorboard<2.16,>=2.15->tensorflow==2.15.0) (1.2.1)\n",
            "Requirement already satisfied: markdown>=2.6.8 in /usr/local/lib/python3.10/dist-packages (from tensorboard<2.16,>=2.15->tensorflow==2.15.0) (3.7)\n",
            "Requirement already satisfied: requests<3,>=2.21.0 in /usr/local/lib/python3.10/dist-packages (from tensorboard<2.16,>=2.15->tensorflow==2.15.0) (2.32.3)\n",
            "Requirement already satisfied: tensorboard-data-server<0.8.0,>=0.7.0 in /usr/local/lib/python3.10/dist-packages (from tensorboard<2.16,>=2.15->tensorflow==2.15.0) (0.7.2)\n",
            "Requirement already satisfied: werkzeug>=1.0.1 in /usr/local/lib/python3.10/dist-packages (from tensorboard<2.16,>=2.15->tensorflow==2.15.0) (3.1.3)\n",
            "Requirement already satisfied: cachetools<6.0,>=2.0.0 in /usr/local/lib/python3.10/dist-packages (from google-auth<3,>=1.6.3->tensorboard<2.16,>=2.15->tensorflow==2.15.0) (5.5.0)\n",
            "Requirement already satisfied: pyasn1-modules>=0.2.1 in /usr/local/lib/python3.10/dist-packages (from google-auth<3,>=1.6.3->tensorboard<2.16,>=2.15->tensorflow==2.15.0) (0.4.1)\n",
            "Requirement already satisfied: rsa<5,>=3.1.4 in /usr/local/lib/python3.10/dist-packages (from google-auth<3,>=1.6.3->tensorboard<2.16,>=2.15->tensorflow==2.15.0) (4.9)\n",
            "Requirement already satisfied: requests-oauthlib>=0.7.0 in /usr/local/lib/python3.10/dist-packages (from google-auth-oauthlib<2,>=0.5->tensorboard<2.16,>=2.15->tensorflow==2.15.0) (1.3.1)\n",
            "Requirement already satisfied: charset-normalizer<4,>=2 in /usr/local/lib/python3.10/dist-packages (from requests<3,>=2.21.0->tensorboard<2.16,>=2.15->tensorflow==2.15.0) (3.4.0)\n",
            "Requirement already satisfied: idna<4,>=2.5 in /usr/local/lib/python3.10/dist-packages (from requests<3,>=2.21.0->tensorboard<2.16,>=2.15->tensorflow==2.15.0) (3.10)\n",
            "Requirement already satisfied: urllib3<3,>=1.21.1 in /usr/local/lib/python3.10/dist-packages (from requests<3,>=2.21.0->tensorboard<2.16,>=2.15->tensorflow==2.15.0) (2.2.3)\n",
            "Requirement already satisfied: certifi>=2017.4.17 in /usr/local/lib/python3.10/dist-packages (from requests<3,>=2.21.0->tensorboard<2.16,>=2.15->tensorflow==2.15.0) (2024.12.14)\n",
            "Requirement already satisfied: MarkupSafe>=2.1.1 in /usr/local/lib/python3.10/dist-packages (from werkzeug>=1.0.1->tensorboard<2.16,>=2.15->tensorflow==2.15.0) (3.0.2)\n",
            "Requirement already satisfied: pyasn1<0.7.0,>=0.4.6 in /usr/local/lib/python3.10/dist-packages (from pyasn1-modules>=0.2.1->google-auth<3,>=1.6.3->tensorboard<2.16,>=2.15->tensorflow==2.15.0) (0.6.1)\n",
            "Requirement already satisfied: oauthlib>=3.0.0 in /usr/local/lib/python3.10/dist-packages (from requests-oauthlib>=0.7.0->google-auth-oauthlib<2,>=0.5->tensorboard<2.16,>=2.15->tensorflow==2.15.0) (3.2.2)\n",
            "Downloading tensorflow-2.15.0-cp310-cp310-manylinux_2_17_x86_64.manylinux2014_x86_64.whl (475.2 MB)\n",
            "\u001b[2K   \u001b[90m━━━━━━━━━━━━━━━━━━━━━━━━━━━━━━━━━━━━━━━━\u001b[0m \u001b[32m475.2/475.2 MB\u001b[0m \u001b[31m3.6 MB/s\u001b[0m eta \u001b[36m0:00:00\u001b[0m\n",
            "\u001b[?25hDownloading keras-2.15.0-py3-none-any.whl (1.7 MB)\n",
            "\u001b[2K   \u001b[90m━━━━━━━━━━━━━━━━━━━━━━━━━━━━━━━━━━━━━━━━\u001b[0m \u001b[32m1.7/1.7 MB\u001b[0m \u001b[31m58.1 MB/s\u001b[0m eta \u001b[36m0:00:00\u001b[0m\n",
            "\u001b[?25hDownloading ml_dtypes-0.2.0-cp310-cp310-manylinux_2_17_x86_64.manylinux2014_x86_64.whl (1.0 MB)\n",
            "\u001b[2K   \u001b[90m━━━━━━━━━━━━━━━━━━━━━━━━━━━━━━━━━━━━━━━━\u001b[0m \u001b[32m1.0/1.0 MB\u001b[0m \u001b[31m53.7 MB/s\u001b[0m eta \u001b[36m0:00:00\u001b[0m\n",
            "\u001b[?25hDownloading tensorboard-2.15.2-py3-none-any.whl (5.5 MB)\n",
            "\u001b[2K   \u001b[90m━━━━━━━━━━━━━━━━━━━━━━━━━━━━━━━━━━━━━━━━\u001b[0m \u001b[32m5.5/5.5 MB\u001b[0m \u001b[31m77.3 MB/s\u001b[0m eta \u001b[36m0:00:00\u001b[0m\n",
            "\u001b[?25hDownloading tensorflow_estimator-2.15.0-py2.py3-none-any.whl (441 kB)\n",
            "\u001b[2K   \u001b[90m━━━━━━━━━━━━━━━━━━━━━━━━━━━━━━━━━━━━━━━━\u001b[0m \u001b[32m442.0/442.0 kB\u001b[0m \u001b[31m35.6 MB/s\u001b[0m eta \u001b[36m0:00:00\u001b[0m\n",
            "\u001b[?25hDownloading wrapt-1.14.1-cp310-cp310-manylinux_2_5_x86_64.manylinux1_x86_64.manylinux_2_17_x86_64.manylinux2014_x86_64.whl (77 kB)\n",
            "\u001b[2K   \u001b[90m━━━━━━━━━━━━━━━━━━━━━━━━━━━━━━━━━━━━━━━━\u001b[0m \u001b[32m77.9/77.9 kB\u001b[0m \u001b[31m8.0 MB/s\u001b[0m eta \u001b[36m0:00:00\u001b[0m\n",
            "\u001b[?25hInstalling collected packages: wrapt, tensorflow-estimator, ml-dtypes, keras, tensorboard, tensorflow\n",
            "  Attempting uninstall: wrapt\n",
            "    Found existing installation: wrapt 1.17.0\n",
            "    Uninstalling wrapt-1.17.0:\n",
            "      Successfully uninstalled wrapt-1.17.0\n",
            "  Attempting uninstall: ml-dtypes\n",
            "    Found existing installation: ml-dtypes 0.4.1\n",
            "    Uninstalling ml-dtypes-0.4.1:\n",
            "      Successfully uninstalled ml-dtypes-0.4.1\n",
            "  Attempting uninstall: keras\n",
            "    Found existing installation: keras 3.5.0\n",
            "    Uninstalling keras-3.5.0:\n",
            "      Successfully uninstalled keras-3.5.0\n",
            "  Attempting uninstall: tensorboard\n",
            "    Found existing installation: tensorboard 2.17.1\n",
            "    Uninstalling tensorboard-2.17.1:\n",
            "      Successfully uninstalled tensorboard-2.17.1\n",
            "  Attempting uninstall: tensorflow\n",
            "    Found existing installation: tensorflow 2.17.1\n",
            "    Uninstalling tensorflow-2.17.1:\n",
            "      Successfully uninstalled tensorflow-2.17.1\n",
            "\u001b[31mERROR: pip's dependency resolver does not currently take into account all the packages that are installed. This behaviour is the source of the following dependency conflicts.\n",
            "tensorstore 0.1.71 requires ml_dtypes>=0.3.1, but you have ml-dtypes 0.2.0 which is incompatible.\n",
            "tf-keras 2.17.0 requires tensorflow<2.18,>=2.17, but you have tensorflow 2.15.0 which is incompatible.\u001b[0m\u001b[31m\n",
            "\u001b[0mSuccessfully installed keras-2.15.0 ml-dtypes-0.2.0 tensorboard-2.15.2 tensorflow-2.15.0 tensorflow-estimator-2.15.0 wrapt-1.14.1\n"
          ]
        },
        {
          "output_type": "display_data",
          "data": {
            "application/vnd.colab-display-data+json": {
              "pip_warning": {
                "packages": [
                  "keras",
                  "ml_dtypes",
                  "tensorflow",
                  "wrapt"
                ]
              },
              "id": "06ee1361ca8947eea178a941f79b2138"
            }
          },
          "metadata": {}
        }
      ]
    },
    {
      "cell_type": "markdown",
      "source": [
        "mengimport library yang dibutuhkan"
      ],
      "metadata": {
        "id": "ZQffURnm5P0R"
      }
    },
    {
      "cell_type": "code",
      "execution_count": null,
      "metadata": {
        "id": "d6xfx1sNbaX4"
      },
      "outputs": [],
      "source": [
        "import tensorflow as tf\n",
        "import pandas as pd\n",
        "import numpy as np\n",
        "import os\n",
        "from tensorflow.keras.preprocessing.image import load_img, img_to_array, ImageDataGenerator\n",
        "from tensorflow.keras.applications.efficientnet import preprocess_input\n",
        "from tensorflow.keras.utils import to_categorical\n",
        "from tensorflow.keras.callbacks import EarlyStopping\n",
        "from sklearn.metrics import classification_report,confusion_matrix, accuracy_score\n",
        "import seaborn as sns\n",
        "import matplotlib.pyplot as plt"
      ]
    },
    {
      "cell_type": "code",
      "source": [
        "tf.__version__"
      ],
      "metadata": {
        "colab": {
          "base_uri": "https://localhost:8080/",
          "height": 35
        },
        "id": "pn2Si1mIfTwl",
        "outputId": "5baca371-e161-4a2a-ac39-37db8eba963b"
      },
      "execution_count": null,
      "outputs": [
        {
          "output_type": "execute_result",
          "data": {
            "text/plain": [
              "'2.15.0'"
            ],
            "application/vnd.google.colaboratory.intrinsic+json": {
              "type": "string"
            }
          },
          "metadata": {},
          "execution_count": 2
        }
      ]
    },
    {
      "cell_type": "markdown",
      "source": [
        "melakukan mounting google drive untuk menarik dataset"
      ],
      "metadata": {
        "id": "kLb_W7jv5oO7"
      }
    },
    {
      "cell_type": "code",
      "source": [
        "from google.colab import drive\n",
        "drive.mount('/content/drive')"
      ],
      "metadata": {
        "colab": {
          "base_uri": "https://localhost:8080/"
        },
        "id": "3twzSrqubmEb",
        "outputId": "e02baeae-db02-47ef-eba1-941e218a9272"
      },
      "execution_count": null,
      "outputs": [
        {
          "output_type": "stream",
          "name": "stdout",
          "text": [
            "Drive already mounted at /content/drive; to attempt to forcibly remount, call drive.mount(\"/content/drive\", force_remount=True).\n"
          ]
        }
      ]
    },
    {
      "cell_type": "markdown",
      "source": [
        "mendeklarasikan path dataset, ukuran gambar, dan label"
      ],
      "metadata": {
        "id": "oNzJuNjg5pYY"
      }
    },
    {
      "cell_type": "code",
      "source": [
        "PATH = '/content/drive/MyDrive/Computer Vision/dataset-coral-baru'\n",
        "img_height = 224\n",
        "img_width = 224\n",
        "labels = ['Acropora Cervicornis', 'Alveopora', 'Caulastraea Furcata', 'Cyphastrea', 'Dendrogyra cylindrus', 'Diploria Strigosa', 'Discosoma', 'Euphyllia', 'Heliofungia actiniformis', 'Palythoa' ,'Ricordea']\n",
        "print(labels)\n",
        "print(len(labels))"
      ],
      "metadata": {
        "colab": {
          "base_uri": "https://localhost:8080/"
        },
        "id": "PGd28wO1bn7R",
        "outputId": "bfd6f8ed-1f81-403b-d340-cc6095a4a7cc"
      },
      "execution_count": null,
      "outputs": [
        {
          "output_type": "stream",
          "name": "stdout",
          "text": [
            "['Acropora Cervicornis', 'Alveopora', 'Caulastraea Furcata', 'Cyphastrea', 'Dendrogyra cylindrus', 'Diploria Strigosa', 'Discosoma', 'Euphyllia', 'Heliofungia actiniformis', 'Palythoa', 'Ricordea']\n",
            "11\n"
          ]
        }
      ]
    },
    {
      "cell_type": "markdown",
      "source": [
        "mendeklarasikan jenis terumbu karang yang ilegal"
      ],
      "metadata": {
        "id": "OpAMEQ9T50wR"
      }
    },
    {
      "cell_type": "code",
      "source": [
        "ilegal_coral = ['Acropora Cervicornis','Dendrogyra cylindrus','Diploria Strigosa','Euphyllia']"
      ],
      "metadata": {
        "id": "JmHVL38GbpwZ"
      },
      "execution_count": null,
      "outputs": []
    },
    {
      "cell_type": "markdown",
      "source": [
        "Meload Dataset dan mengaugmentasi menggunakan ImageDataGenerator"
      ],
      "metadata": {
        "id": "3OdMQG6W6BzF"
      }
    },
    {
      "cell_type": "code",
      "source": [
        "train_datagen = ImageDataGenerator(\n",
        "    rotation_range = 40,\n",
        "    width_shift_range = .2,\n",
        "    height_shift_range = .2,\n",
        "    shear_range = .2,\n",
        "    zoom_range = .2,\n",
        "    horizontal_flip=True,\n",
        "    fill_mode = 'nearest',\n",
        "    validation_split = .2\n",
        ")\n",
        "train_generator = train_datagen.flow_from_directory(\n",
        "    PATH,\n",
        "    target_size=(224,224),\n",
        "    batch_size=64,\n",
        "    class_mode='categorical',\n",
        "    subset='training'\n",
        ")\n",
        "val_generator = train_datagen.flow_from_directory(\n",
        "    PATH,\n",
        "    target_size=(224,224),\n",
        "    batch_size=64,\n",
        "    class_mode='categorical',\n",
        "    subset='validation',\n",
        "    shuffle=False\n",
        ")"
      ],
      "metadata": {
        "colab": {
          "base_uri": "https://localhost:8080/"
        },
        "id": "nAaytzltbxQr",
        "outputId": "1721958e-8e82-4cbf-f523-c29b36bc5ab7"
      },
      "execution_count": null,
      "outputs": [
        {
          "output_type": "stream",
          "name": "stdout",
          "text": [
            "Found 980 images belonging to 11 classes.\n",
            "Found 238 images belonging to 11 classes.\n"
          ]
        }
      ]
    },
    {
      "cell_type": "markdown",
      "source": [
        "Membuat function untuk memanggil EfficientNetB6"
      ],
      "metadata": {
        "id": "qWR7rEF36QVN"
      }
    },
    {
      "cell_type": "code",
      "source": [
        "def feature_extractor_Resnet(inputs):\n",
        "\n",
        "  feature_extractor = tf.keras.applications.ResNet101V2(input_shape=(224, 224, 3),\n",
        "                                               include_top=False,\n",
        "                                               weights='imagenet')(inputs)\n",
        "\n",
        "  x = tf.keras.layers.GlobalAveragePooling2D()(feature_extractor)\n",
        "  return x"
      ],
      "metadata": {
        "id": "K9M8mrxWbzgj"
      },
      "execution_count": null,
      "outputs": []
    },
    {
      "cell_type": "markdown",
      "source": [
        "Membuat function untuk membuat classifier model"
      ],
      "metadata": {
        "id": "O11--N2u6ROa"
      }
    },
    {
      "cell_type": "code",
      "source": [
        "def classifier(input):\n",
        "    x = tf.keras.layers.BatchNormalization()(input)\n",
        "    x = tf.keras.layers.Dense(512, activation=\"relu\")(x)\n",
        "    x = tf.keras.layers.Dropout(0.7)(x)\n",
        "    x = tf.keras.layers.Dense(11, activation=\"softmax\", name=\"classification\")(x)\n",
        "    return x"
      ],
      "metadata": {
        "id": "bMQ8Gr0_b7D0"
      },
      "execution_count": null,
      "outputs": []
    },
    {
      "cell_type": "markdown",
      "source": [
        "Membuat Function untuk membuat model secara keseluruhan"
      ],
      "metadata": {
        "id": "wj66c6zC6USy"
      }
    },
    {
      "cell_type": "code",
      "source": [
        "def final_model(inputs):\n",
        "\n",
        "    Resnet101_feature_extractor = feature_extractor_Resnet(inputs)\n",
        "    classification_output = classifier(Resnet101_feature_extractor)\n",
        "\n",
        "    return classification_output"
      ],
      "metadata": {
        "id": "yhstuj7Rc7XO"
      },
      "execution_count": null,
      "outputs": []
    },
    {
      "cell_type": "markdown",
      "source": [
        "Membuat function untuk mendefinisikan dan compile model"
      ],
      "metadata": {
        "id": "cdPJEu-F6YAd"
      }
    },
    {
      "cell_type": "code",
      "source": [
        "def define_compile_model():\n",
        "  inputs = tf.keras.layers.Input(shape=(224,224,3))\n",
        "\n",
        "  classification_output = final_model(inputs)\n",
        "  model = tf.keras.Model(inputs=inputs, outputs = classification_output)\n",
        "  optimizer = tf.keras.optimizers.Adam(learning_rate=0.0001)\n",
        "  model.compile(optimizer=optimizer,\n",
        "                loss='categorical_crossentropy',\n",
        "                metrics = ['accuracy'])\n",
        "  return model"
      ],
      "metadata": {
        "id": "jnOUpyuodOnm"
      },
      "execution_count": null,
      "outputs": []
    },
    {
      "cell_type": "markdown",
      "source": [
        "memanggil dan menampilkan struktur model"
      ],
      "metadata": {
        "id": "JVNQwmW16ayA"
      }
    },
    {
      "cell_type": "code",
      "source": [
        "model = define_compile_model()\n",
        "\n",
        "model.summary()"
      ],
      "metadata": {
        "colab": {
          "base_uri": "https://localhost:8080/"
        },
        "id": "cvKMabOMdRIW",
        "outputId": "9f171b0a-160d-4870-9d31-4b8a4dc47a63"
      },
      "execution_count": null,
      "outputs": [
        {
          "output_type": "stream",
          "name": "stdout",
          "text": [
            "Downloading data from https://storage.googleapis.com/tensorflow/keras-applications/resnet/resnet101v2_weights_tf_dim_ordering_tf_kernels_notop.h5\n",
            "171317808/171317808 [==============================] - 1s 0us/step\n",
            "Model: \"model\"\n",
            "_________________________________________________________________\n",
            " Layer (type)                Output Shape              Param #   \n",
            "=================================================================\n",
            " input_1 (InputLayer)        [(None, 224, 224, 3)]     0         \n",
            "                                                                 \n",
            " resnet101v2 (Functional)    (None, 7, 7, 2048)        42626560  \n",
            "                                                                 \n",
            " global_average_pooling2d (  (None, 2048)              0         \n",
            " GlobalAveragePooling2D)                                         \n",
            "                                                                 \n",
            " batch_normalization (Batch  (None, 2048)              8192      \n",
            " Normalization)                                                  \n",
            "                                                                 \n",
            " dense (Dense)               (None, 512)               1049088   \n",
            "                                                                 \n",
            " dropout (Dropout)           (None, 512)               0         \n",
            "                                                                 \n",
            " classification (Dense)      (None, 11)                5643      \n",
            "                                                                 \n",
            "=================================================================\n",
            "Total params: 43689483 (166.66 MB)\n",
            "Trainable params: 43587723 (166.27 MB)\n",
            "Non-trainable params: 101760 (397.50 KB)\n",
            "_________________________________________________________________\n"
          ]
        }
      ]
    },
    {
      "cell_type": "markdown",
      "source": [
        "mendeklarasikan callback yang dibutuhkan untuk melatih model"
      ],
      "metadata": {
        "id": "aFtSWIrV6edO"
      }
    },
    {
      "cell_type": "code",
      "source": [
        "early_stopping = EarlyStopping(\n",
        "    monitor='val_loss',\n",
        "    patience=8,\n",
        "    verbose = 1\n",
        ")\n",
        "lr_scheduler = tf.keras.callbacks.ReduceLROnPlateau(\n",
        "    monitor='val_loss',\n",
        "    factor=0.9,\n",
        "    min_lr=1e-6,\n",
        "    patience=2,\n",
        "    verbose=1\n",
        ")\n",
        "checkpoint = tf.keras.callbacks.ModelCheckpoint(\n",
        "    filepath='/content/drive/MyDrive/Computer Vision/coral_classification_checkpoint_Resnet101V2.h5',\n",
        "    monitor='val_loss',\n",
        "    save_best_only=True,\n",
        "    save_weights_only=False,\n",
        "    verbose=1\n",
        ")"
      ],
      "metadata": {
        "id": "oErIKZsAelAo"
      },
      "execution_count": null,
      "outputs": []
    },
    {
      "cell_type": "markdown",
      "source": [
        "Melatih model"
      ],
      "metadata": {
        "id": "hSOY_YIW6iiV"
      }
    },
    {
      "cell_type": "code",
      "source": [
        "EPOCHS = 100\n",
        "history = model.fit(train_generator, epochs=EPOCHS, steps_per_epoch=train_generator.samples//64,validation_data = val_generator, validation_steps=val_generator.samples//64,callbacks=[early_stopping,lr_scheduler,checkpoint])"
      ],
      "metadata": {
        "colab": {
          "base_uri": "https://localhost:8080/"
        },
        "id": "ZiPZx4ZseljZ",
        "outputId": "97d5157d-27ec-4130-9a2c-df8733152e52"
      },
      "execution_count": null,
      "outputs": [
        {
          "output_type": "stream",
          "name": "stdout",
          "text": [
            "Epoch 1/100\n",
            "15/15 [==============================] - ETA: 0s - loss: 3.3740 - accuracy: 0.1638 \n",
            "Epoch 1: val_loss improved from inf to 3.91176, saving model to /content/drive/MyDrive/Computer Vision/coral_classification_checkpoint_Resnet101V2.h5\n"
          ]
        },
        {
          "output_type": "stream",
          "name": "stderr",
          "text": [
            "/usr/local/lib/python3.10/dist-packages/keras/src/engine/training.py:3103: UserWarning: You are saving your model as an HDF5 file via `model.save()`. This file format is considered legacy. We recommend using instead the native Keras format, e.g. `model.save('my_model.keras')`.\n",
            "  saving_api.save_model(\n"
          ]
        },
        {
          "output_type": "stream",
          "name": "stdout",
          "text": [
            "\b\b\b\b\b\b\b\b\b\b\b\b\b\b\b\b\b\b\b\b\b\b\b\b\b\b\b\b\b\b\b\b\b\b\b\b\b\b\b\b\b\b\b\b\b\b\b\b\b\b\b\b\b\b\b\b\b\b\b\b\b\b\b\b\b\b\b\b\b\b\b\b\b\b\b\b\b\b\b\b\b\b\r15/15 [==============================] - 473s 30s/step - loss: 3.3740 - accuracy: 0.1638 - val_loss: 3.9118 - val_accuracy: 0.0208 - lr: 1.0000e-04\n",
            "Epoch 2/100\n",
            "15/15 [==============================] - ETA: 0s - loss: 2.2946 - accuracy: 0.3548\n",
            "Epoch 2: val_loss improved from 3.91176 to 2.88023, saving model to /content/drive/MyDrive/Computer Vision/coral_classification_checkpoint_Resnet101V2.h5\n",
            "15/15 [==============================] - 104s 7s/step - loss: 2.2946 - accuracy: 0.3548 - val_loss: 2.8802 - val_accuracy: 0.1458 - lr: 1.0000e-04\n",
            "Epoch 3/100\n",
            "15/15 [==============================] - ETA: 0s - loss: 1.5422 - accuracy: 0.5644\n",
            "Epoch 3: val_loss improved from 2.88023 to 1.68874, saving model to /content/drive/MyDrive/Computer Vision/coral_classification_checkpoint_Resnet101V2.h5\n",
            "15/15 [==============================] - 104s 7s/step - loss: 1.5422 - accuracy: 0.5644 - val_loss: 1.6887 - val_accuracy: 0.4479 - lr: 1.0000e-04\n",
            "Epoch 4/100\n",
            "15/15 [==============================] - ETA: 0s - loss: 1.2238 - accuracy: 0.6157\n",
            "Epoch 4: val_loss improved from 1.68874 to 1.16618, saving model to /content/drive/MyDrive/Computer Vision/coral_classification_checkpoint_Resnet101V2.h5\n",
            "15/15 [==============================] - 104s 7s/step - loss: 1.2238 - accuracy: 0.6157 - val_loss: 1.1662 - val_accuracy: 0.5885 - lr: 1.0000e-04\n",
            "Epoch 5/100\n",
            "15/15 [==============================] - ETA: 0s - loss: 0.9169 - accuracy: 0.7074\n",
            "Epoch 5: val_loss improved from 1.16618 to 1.05467, saving model to /content/drive/MyDrive/Computer Vision/coral_classification_checkpoint_Resnet101V2.h5\n",
            "15/15 [==============================] - 106s 7s/step - loss: 0.9169 - accuracy: 0.7074 - val_loss: 1.0547 - val_accuracy: 0.6406 - lr: 1.0000e-04\n",
            "Epoch 6/100\n",
            "15/15 [==============================] - ETA: 0s - loss: 0.7304 - accuracy: 0.7467\n",
            "Epoch 6: val_loss improved from 1.05467 to 0.75057, saving model to /content/drive/MyDrive/Computer Vision/coral_classification_checkpoint_Resnet101V2.h5\n",
            "15/15 [==============================] - 104s 7s/step - loss: 0.7304 - accuracy: 0.7467 - val_loss: 0.7506 - val_accuracy: 0.7500 - lr: 1.0000e-04\n",
            "Epoch 7/100\n",
            "15/15 [==============================] - ETA: 0s - loss: 0.6205 - accuracy: 0.7980\n",
            "Epoch 7: val_loss improved from 0.75057 to 0.73469, saving model to /content/drive/MyDrive/Computer Vision/coral_classification_checkpoint_Resnet101V2.h5\n",
            "15/15 [==============================] - 107s 7s/step - loss: 0.6205 - accuracy: 0.7980 - val_loss: 0.7347 - val_accuracy: 0.7865 - lr: 1.0000e-04\n",
            "Epoch 8/100\n",
            "15/15 [==============================] - ETA: 0s - loss: 0.4914 - accuracy: 0.8395\n",
            "Epoch 8: val_loss did not improve from 0.73469\n",
            "15/15 [==============================] - 96s 6s/step - loss: 0.4914 - accuracy: 0.8395 - val_loss: 0.8863 - val_accuracy: 0.7344 - lr: 1.0000e-04\n",
            "Epoch 9/100\n",
            "15/15 [==============================] - ETA: 0s - loss: 0.4284 - accuracy: 0.8559\n",
            "Epoch 9: ReduceLROnPlateau reducing learning rate to 8.999999772640876e-05.\n",
            "\n",
            "Epoch 9: val_loss did not improve from 0.73469\n",
            "15/15 [==============================] - 92s 6s/step - loss: 0.4284 - accuracy: 0.8559 - val_loss: 0.9441 - val_accuracy: 0.7500 - lr: 1.0000e-04\n",
            "Epoch 10/100\n",
            "15/15 [==============================] - ETA: 0s - loss: 0.3810 - accuracy: 0.8876\n",
            "Epoch 10: val_loss improved from 0.73469 to 0.72421, saving model to /content/drive/MyDrive/Computer Vision/coral_classification_checkpoint_Resnet101V2.h5\n",
            "15/15 [==============================] - 100s 7s/step - loss: 0.3810 - accuracy: 0.8876 - val_loss: 0.7242 - val_accuracy: 0.8333 - lr: 9.0000e-05\n",
            "Epoch 11/100\n",
            "15/15 [==============================] - ETA: 0s - loss: 0.3101 - accuracy: 0.9039\n",
            "Epoch 11: val_loss improved from 0.72421 to 0.58487, saving model to /content/drive/MyDrive/Computer Vision/coral_classification_checkpoint_Resnet101V2.h5\n",
            "15/15 [==============================] - 105s 7s/step - loss: 0.3101 - accuracy: 0.9039 - val_loss: 0.5849 - val_accuracy: 0.8333 - lr: 9.0000e-05\n",
            "Epoch 12/100\n",
            "15/15 [==============================] - ETA: 0s - loss: 0.2403 - accuracy: 0.9258\n",
            "Epoch 12: val_loss improved from 0.58487 to 0.50167, saving model to /content/drive/MyDrive/Computer Vision/coral_classification_checkpoint_Resnet101V2.h5\n",
            "15/15 [==============================] - 105s 7s/step - loss: 0.2403 - accuracy: 0.9258 - val_loss: 0.5017 - val_accuracy: 0.8646 - lr: 9.0000e-05\n",
            "Epoch 13/100\n",
            "15/15 [==============================] - ETA: 0s - loss: 0.2443 - accuracy: 0.9148\n",
            "Epoch 13: val_loss did not improve from 0.50167\n",
            "15/15 [==============================] - 95s 6s/step - loss: 0.2443 - accuracy: 0.9148 - val_loss: 0.6268 - val_accuracy: 0.8542 - lr: 9.0000e-05\n",
            "Epoch 14/100\n",
            "15/15 [==============================] - ETA: 0s - loss: 0.2238 - accuracy: 0.9279\n",
            "Epoch 14: val_loss improved from 0.50167 to 0.48941, saving model to /content/drive/MyDrive/Computer Vision/coral_classification_checkpoint_Resnet101V2.h5\n",
            "15/15 [==============================] - 98s 7s/step - loss: 0.2238 - accuracy: 0.9279 - val_loss: 0.4894 - val_accuracy: 0.8646 - lr: 9.0000e-05\n",
            "Epoch 15/100\n",
            "15/15 [==============================] - ETA: 0s - loss: 0.1857 - accuracy: 0.9312\n",
            "Epoch 15: val_loss did not improve from 0.48941\n",
            "15/15 [==============================] - 96s 6s/step - loss: 0.1857 - accuracy: 0.9312 - val_loss: 0.5064 - val_accuracy: 0.8698 - lr: 9.0000e-05\n",
            "Epoch 16/100\n",
            "15/15 [==============================] - ETA: 0s - loss: 0.1320 - accuracy: 0.9618\n",
            "Epoch 16: ReduceLROnPlateau reducing learning rate to 8.100000122794882e-05.\n",
            "\n",
            "Epoch 16: val_loss did not improve from 0.48941\n",
            "15/15 [==============================] - 91s 6s/step - loss: 0.1320 - accuracy: 0.9618 - val_loss: 0.6301 - val_accuracy: 0.8385 - lr: 9.0000e-05\n",
            "Epoch 17/100\n",
            "15/15 [==============================] - ETA: 0s - loss: 0.1612 - accuracy: 0.9552\n",
            "Epoch 17: val_loss improved from 0.48941 to 0.45390, saving model to /content/drive/MyDrive/Computer Vision/coral_classification_checkpoint_Resnet101V2.h5\n",
            "15/15 [==============================] - 99s 7s/step - loss: 0.1612 - accuracy: 0.9552 - val_loss: 0.4539 - val_accuracy: 0.8854 - lr: 8.1000e-05\n",
            "Epoch 18/100\n",
            "15/15 [==============================] - ETA: 0s - loss: 0.1255 - accuracy: 0.9607\n",
            "Epoch 18: val_loss improved from 0.45390 to 0.42914, saving model to /content/drive/MyDrive/Computer Vision/coral_classification_checkpoint_Resnet101V2.h5\n",
            "15/15 [==============================] - 106s 7s/step - loss: 0.1255 - accuracy: 0.9607 - val_loss: 0.4291 - val_accuracy: 0.8750 - lr: 8.1000e-05\n",
            "Epoch 19/100\n",
            "15/15 [==============================] - ETA: 0s - loss: 0.1278 - accuracy: 0.9531\n",
            "Epoch 19: val_loss did not improve from 0.42914\n",
            "15/15 [==============================] - 100s 6s/step - loss: 0.1278 - accuracy: 0.9531 - val_loss: 0.4548 - val_accuracy: 0.8854 - lr: 8.1000e-05\n",
            "Epoch 20/100\n",
            "15/15 [==============================] - ETA: 0s - loss: 0.0918 - accuracy: 0.9694\n",
            "Epoch 20: val_loss improved from 0.42914 to 0.31214, saving model to /content/drive/MyDrive/Computer Vision/coral_classification_checkpoint_Resnet101V2.h5\n",
            "15/15 [==============================] - 100s 7s/step - loss: 0.0918 - accuracy: 0.9694 - val_loss: 0.3121 - val_accuracy: 0.8958 - lr: 8.1000e-05\n",
            "Epoch 21/100\n",
            "15/15 [==============================] - ETA: 0s - loss: 0.0980 - accuracy: 0.9705\n",
            "Epoch 21: val_loss did not improve from 0.31214\n",
            "15/15 [==============================] - 97s 6s/step - loss: 0.0980 - accuracy: 0.9705 - val_loss: 0.4450 - val_accuracy: 0.8750 - lr: 8.1000e-05\n",
            "Epoch 22/100\n",
            "15/15 [==============================] - ETA: 0s - loss: 0.1033 - accuracy: 0.9625\n",
            "Epoch 22: ReduceLROnPlateau reducing learning rate to 7.289999848580919e-05.\n",
            "\n",
            "Epoch 22: val_loss did not improve from 0.31214\n",
            "15/15 [==============================] - 95s 6s/step - loss: 0.1033 - accuracy: 0.9625 - val_loss: 0.3740 - val_accuracy: 0.8958 - lr: 8.1000e-05\n",
            "Epoch 23/100\n",
            "15/15 [==============================] - ETA: 0s - loss: 0.0934 - accuracy: 0.9629\n",
            "Epoch 23: val_loss improved from 0.31214 to 0.27968, saving model to /content/drive/MyDrive/Computer Vision/coral_classification_checkpoint_Resnet101V2.h5\n",
            "15/15 [==============================] - 100s 7s/step - loss: 0.0934 - accuracy: 0.9629 - val_loss: 0.2797 - val_accuracy: 0.9115 - lr: 7.2900e-05\n",
            "Epoch 24/100\n",
            "15/15 [==============================] - ETA: 0s - loss: 0.0559 - accuracy: 0.9782\n",
            "Epoch 24: val_loss improved from 0.27968 to 0.25086, saving model to /content/drive/MyDrive/Computer Vision/coral_classification_checkpoint_Resnet101V2.h5\n",
            "15/15 [==============================] - 106s 7s/step - loss: 0.0559 - accuracy: 0.9782 - val_loss: 0.2509 - val_accuracy: 0.9323 - lr: 7.2900e-05\n",
            "Epoch 25/100\n",
            "15/15 [==============================] - ETA: 0s - loss: 0.0573 - accuracy: 0.9847\n",
            "Epoch 25: val_loss did not improve from 0.25086\n",
            "15/15 [==============================] - 95s 6s/step - loss: 0.0573 - accuracy: 0.9847 - val_loss: 0.4480 - val_accuracy: 0.8958 - lr: 7.2900e-05\n",
            "Epoch 26/100\n",
            "15/15 [==============================] - ETA: 0s - loss: 0.0734 - accuracy: 0.9836\n",
            "Epoch 26: ReduceLROnPlateau reducing learning rate to 6.56100019114092e-05.\n",
            "\n",
            "Epoch 26: val_loss did not improve from 0.25086\n",
            "15/15 [==============================] - 90s 6s/step - loss: 0.0734 - accuracy: 0.9836 - val_loss: 0.3971 - val_accuracy: 0.9010 - lr: 7.2900e-05\n",
            "Epoch 27/100\n",
            "15/15 [==============================] - ETA: 0s - loss: 0.0667 - accuracy: 0.9836\n",
            "Epoch 27: val_loss did not improve from 0.25086\n",
            "15/15 [==============================] - 91s 6s/step - loss: 0.0667 - accuracy: 0.9836 - val_loss: 0.3822 - val_accuracy: 0.8854 - lr: 6.5610e-05\n",
            "Epoch 28/100\n",
            "15/15 [==============================] - ETA: 0s - loss: 0.0999 - accuracy: 0.9749\n",
            "Epoch 28: ReduceLROnPlateau reducing learning rate to 5.904900172026828e-05.\n",
            "\n",
            "Epoch 28: val_loss did not improve from 0.25086\n",
            "15/15 [==============================] - 91s 6s/step - loss: 0.0999 - accuracy: 0.9749 - val_loss: 0.3661 - val_accuracy: 0.9115 - lr: 6.5610e-05\n",
            "Epoch 29/100\n",
            "15/15 [==============================] - ETA: 0s - loss: 0.0669 - accuracy: 0.9793\n",
            "Epoch 29: val_loss did not improve from 0.25086\n",
            "15/15 [==============================] - 92s 6s/step - loss: 0.0669 - accuracy: 0.9793 - val_loss: 0.4622 - val_accuracy: 0.8802 - lr: 5.9049e-05\n",
            "Epoch 30/100\n",
            "15/15 [==============================] - ETA: 0s - loss: 0.0590 - accuracy: 0.9858\n",
            "Epoch 30: ReduceLROnPlateau reducing learning rate to 5.314410154824145e-05.\n",
            "\n",
            "Epoch 30: val_loss did not improve from 0.25086\n",
            "15/15 [==============================] - 91s 6s/step - loss: 0.0590 - accuracy: 0.9858 - val_loss: 0.4932 - val_accuracy: 0.8698 - lr: 5.9049e-05\n",
            "Epoch 31/100\n",
            "15/15 [==============================] - ETA: 0s - loss: 0.0637 - accuracy: 0.9836\n",
            "Epoch 31: val_loss did not improve from 0.25086\n",
            "15/15 [==============================] - 91s 6s/step - loss: 0.0637 - accuracy: 0.9836 - val_loss: 0.4315 - val_accuracy: 0.8802 - lr: 5.3144e-05\n",
            "Epoch 32/100\n",
            "15/15 [==============================] - ETA: 0s - loss: 0.0547 - accuracy: 0.9844\n",
            "Epoch 32: ReduceLROnPlateau reducing learning rate to 4.7829690083744934e-05.\n",
            "\n",
            "Epoch 32: val_loss did not improve from 0.25086\n",
            "15/15 [==============================] - 95s 6s/step - loss: 0.0547 - accuracy: 0.9844 - val_loss: 0.3253 - val_accuracy: 0.8750 - lr: 5.3144e-05\n",
            "Epoch 32: early stopping\n"
          ]
        }
      ]
    },
    {
      "cell_type": "markdown",
      "source": [
        "meload model yang sudah terlatih dari checkpoint yang disimpan di google drive"
      ],
      "metadata": {
        "id": "k_YWYV5a6mNE"
      }
    },
    {
      "cell_type": "code",
      "source": [
        "model = tf.keras.models.load_model('/content/drive/MyDrive/Computer Vision/coral_classification_checkpoint_Resnet101V2.h5')"
      ],
      "metadata": {
        "id": "JWW2cUJG7ek2"
      },
      "execution_count": null,
      "outputs": []
    },
    {
      "cell_type": "markdown",
      "source": [
        "melakukan testing pada model yang sudah terlatih"
      ],
      "metadata": {
        "id": "VKxqfovB6pB2"
      }
    },
    {
      "cell_type": "code",
      "source": [
        "y_pred = model.predict(val_generator)\n",
        "y_pred = np.argmax(y_pred, axis=1)\n",
        "y_test = val_generator.classes"
      ],
      "metadata": {
        "id": "Ym-8gntt78Ul",
        "colab": {
          "base_uri": "https://localhost:8080/"
        },
        "outputId": "2e3a6148-4ce6-4478-c8b4-dc421a352b47"
      },
      "execution_count": null,
      "outputs": [
        {
          "output_type": "stream",
          "name": "stdout",
          "text": [
            "4/4 [==============================] - 9s 2s/step\n"
          ]
        }
      ]
    },
    {
      "cell_type": "markdown",
      "source": [
        "menampilkan classification report yang berisikan precision, recall dan f1-score dari setiap kelas"
      ],
      "metadata": {
        "id": "t9cbMeOj6xTl"
      }
    },
    {
      "cell_type": "code",
      "source": [
        "cm = confusion_matrix(y_test, y_pred)\n",
        "print(accuracy_score(y_test, y_pred))\n",
        "print(classification_report(y_test, y_pred, target_names=labels))"
      ],
      "metadata": {
        "id": "QN02R6X77rcX",
        "colab": {
          "base_uri": "https://localhost:8080/"
        },
        "outputId": "a87f146f-de74-451d-c26b-eab8b1e09dc5"
      },
      "execution_count": null,
      "outputs": [
        {
          "output_type": "stream",
          "name": "stdout",
          "text": [
            "0.8991596638655462\n",
            "                          precision    recall  f1-score   support\n",
            "\n",
            "    Acropora Cervicornis       0.96      0.96      0.96        24\n",
            "               Alveopora       0.80      1.00      0.89        20\n",
            "     Caulastraea Furcata       1.00      0.92      0.96        25\n",
            "              Cyphastrea       0.94      0.84      0.89        19\n",
            "    Dendrogyra cylindrus       0.89      1.00      0.94        17\n",
            "       Diploria Strigosa       1.00      1.00      1.00        30\n",
            "               Discosoma       0.83      0.79      0.81        24\n",
            "               Euphyllia       0.76      0.83      0.79        23\n",
            "Heliofungia actiniformis       0.89      0.76      0.82        21\n",
            "                Palythoa       1.00      1.00      1.00        10\n",
            "                Ricordea       0.88      0.84      0.86        25\n",
            "\n",
            "                accuracy                           0.90       238\n",
            "               macro avg       0.90      0.90      0.90       238\n",
            "            weighted avg       0.90      0.90      0.90       238\n",
            "\n"
          ]
        }
      ]
    },
    {
      "cell_type": "markdown",
      "source": [
        "menampilkan confusion matrix"
      ],
      "metadata": {
        "id": "bfesD1b06yLp"
      }
    },
    {
      "cell_type": "code",
      "source": [
        "plt.figure(figsize=(10,6))\n",
        "sns.heatmap(cm, annot=True, fmt='d', cmap='Blues', xticklabels=labels, yticklabels=labels)\n",
        "plt.title('Confusion Matrix')\n",
        "plt.show()"
      ],
      "metadata": {
        "id": "Wa9Y9aM07uwg",
        "colab": {
          "base_uri": "https://localhost:8080/",
          "height": 637
        },
        "outputId": "4f91e51f-785c-4582-a700-e2efc64a6504"
      },
      "execution_count": null,
      "outputs": [
        {
          "output_type": "display_data",
          "data": {
            "text/plain": [
              "<Figure size 1000x600 with 2 Axes>"
            ],
            "image/png": "[encoded data removed]"
          },
          "metadata": {}
        }
      ]
    }
  ]
}