{
  "nbformat": 4,
  "nbformat_minor": 0,
  "metadata": {
    "colab": {
      "provenance": [],
      "collapsed_sections": [
        "B-ekHZOcjVsP"
      ],
      "machine_shape": "hm",
      "gpuType": "A100"
    },
    "kernelspec": {
      "name": "python3",
      "display_name": "Python 3"
    },
    "language_info": {
      "name": "python"
    },
    "accelerator": "GPU"
  },
  "cells": [
    {
      "cell_type": "code",
      "source": [
        "from google.colab import drive\n",
        "drive.mount('/content/drive')"
      ],
      "metadata": {
        "colab": {
          "base_uri": "https://localhost:8080/"
        },
        "id": "Wz83ZYjX0pvt",
        "outputId": "3358bb44-73ee-44ad-8a4d-6163a0931647"
      },
      "execution_count": null,
      "outputs": [
        {
          "output_type": "stream",
          "name": "stdout",
          "text": [
            "Mounted at /content/drive\n"
          ]
        }
      ]
    },
    {
      "cell_type": "code",
      "execution_count": null,
      "metadata": {
        "id": "_fKWWP-b0crC"
      },
      "outputs": [],
      "source": [
        "import cv2\n",
        "import numpy as np\n",
        "from sklearn.svm import SVC\n",
        "from sklearn.model_selection import train_test_split\n",
        "from sklearn.metrics import accuracy_score, classification_report\n",
        "import os\n",
        "from skimage.feature import local_binary_pattern, hog\n",
        "from sklearn.ensemble import RandomForestClassifier"
      ]
    },
    {
      "cell_type": "markdown",
      "source": [
        "## Load & Preprocessing Image"
      ],
      "metadata": {
        "id": "tXZq_lcB05lA"
      }
    },
    {
      "cell_type": "code",
      "source": [
        "DATASET_PATH = '/content/drive/My Drive/dataset-coral-baru'"
      ],
      "metadata": {
        "id": "P5C9jwEQ-rXe"
      },
      "execution_count": null,
      "outputs": []
    },
    {
      "cell_type": "code",
      "source": [
        "IMAGE_SIZE = (224, 224)\n",
        "RADIUS = 1\n",
        "N_POINTS = 8 * RADIUS\n",
        "\n",
        "images = []\n",
        "class_list = []\n",
        "\n",
        "clahe = cv2.createCLAHE(clipLimit=2.0, tileGridSize=(8, 8))\n",
        "\n",
        "for class_index, class_name in enumerate(os.listdir(DATASET_PATH)):\n",
        "    class_path = os.path.join(DATASET_PATH, class_name)\n",
        "    if os.path.isdir(class_path):\n",
        "        for file_name in os.listdir(class_path):\n",
        "            file_path = os.path.join(class_path, file_name)\n",
        "\n",
        "            image = cv2.imread(file_path)\n",
        "            if image is not None:\n",
        "\n",
        "                image = cv2.resize(image, IMAGE_SIZE)\n",
        "\n",
        "                image = cv2.cvtColor(image, cv2.COLOR_BGR2RGB)\n",
        "\n",
        "                lab = cv2.cvtColor(image, cv2.COLOR_RGB2LAB)\n",
        "                l, a, b = cv2.split(lab)\n",
        "                clahe = cv2.createCLAHE(clipLimit=2.0, tileGridSize=(8, 8))\n",
        "                l = clahe.apply(l)\n",
        "                lab = cv2.merge((l, a, b))\n",
        "                image = cv2.cvtColor(lab, cv2.COLOR_LAB2RGB)\n",
        "\n",
        "\n",
        "                images.append(image)\n",
        "                class_list.append(class_index)\n",
        "\n",
        "images = np.array(images, dtype=np.float32)\n",
        "class_list = np.array(class_list)\n",
        "\n",
        "print(f\"Total images loaded: {len(images)}\")\n",
        "print(f\"Total classes: {len(np.unique(class_list))}\")"
      ],
      "metadata": {
        "colab": {
          "base_uri": "https://localhost:8080/"
        },
        "id": "o-_3juSU_G8H",
        "outputId": "157136ad-b4e2-42aa-ed15-2ee9871aa479"
      },
      "execution_count": null,
      "outputs": [
        {
          "output_type": "stream",
          "name": "stdout",
          "text": [
            "Total images loaded: 1218\n",
            "Total classes: 11\n"
          ]
        }
      ]
    },
    {
      "cell_type": "code",
      "source": [
        "#VGG\n",
        "from tensorflow.keras.applications.vgg16 import VGG16, preprocess_input\n",
        "from tensorflow.keras.models import Model\n",
        "import numpy as np\n",
        "\n",
        "vgg_model = VGG16(include_top=False, weights='imagenet', input_shape=(224, 224, 3))\n",
        "\n",
        "model_vgg = Model(inputs=vgg_model.input, outputs=vgg_model.output)\n",
        "\n",
        "images_vgg = preprocess_input(images)\n",
        "\n",
        "features_vgg = model_vgg.predict(images_vgg)\n",
        "\n",
        "print(f\"Extracted features shape (VGG16): {features_vgg.shape}\")\n"
      ],
      "metadata": {
        "colab": {
          "base_uri": "https://localhost:8080/"
        },
        "id": "AMs9MH9NdEsr",
        "outputId": "f0b7807e-31d1-4767-e787-4127d42bfe0b"
      },
      "execution_count": null,
      "outputs": [
        {
          "output_type": "stream",
          "name": "stdout",
          "text": [
            "Downloading data from https://storage.googleapis.com/tensorflow/keras-applications/vgg16/vgg16_weights_tf_dim_ordering_tf_kernels_notop.h5\n",
            "\u001b[1m58889256/58889256\u001b[0m \u001b[32m━━━━━━━━━━━━━━━━━━━━\u001b[0m\u001b[37m\u001b[0m \u001b[1m0s\u001b[0m 0us/step\n",
            "\u001b[1m39/39\u001b[0m \u001b[32m━━━━━━━━━━━━━━━━━━━━\u001b[0m\u001b[37m\u001b[0m \u001b[1m5s\u001b[0m 39ms/step\n",
            "Extracted features shape (VGG16): (1218, 7, 7, 512)\n"
          ]
        }
      ]
    },
    {
      "cell_type": "code",
      "source": [
        "#RESNET\n",
        "from tensorflow.keras.applications.resnet50 import ResNet50, preprocess_input\n",
        "from tensorflow.keras.models import Model\n",
        "\n",
        "resnet_model = ResNet50(include_top=False, weights='imagenet', input_shape=(224, 224, 3))\n",
        "\n",
        "model_resnet = Model(inputs=resnet_model.input, outputs=resnet_model.output)\n",
        "\n",
        "images_resnet = preprocess_input(images)\n",
        "\n",
        "features_resnet = model_resnet.predict(images_resnet)\n",
        "\n",
        "print(f\"Extracted features shape (ResNet50): {features_resnet.shape}\")\n"
      ],
      "metadata": {
        "id": "fBDKkg-5eZVH",
        "colab": {
          "base_uri": "https://localhost:8080/"
        },
        "outputId": "82794e70-1a89-4825-e944-b6b7a451da02"
      },
      "execution_count": null,
      "outputs": [
        {
          "output_type": "stream",
          "name": "stdout",
          "text": [
            "Downloading data from https://storage.googleapis.com/tensorflow/keras-applications/resnet/resnet50_weights_tf_dim_ordering_tf_kernels_notop.h5\n",
            "\u001b[1m94765736/94765736\u001b[0m \u001b[32m━━━━━━━━━━━━━━━━━━━━\u001b[0m\u001b[37m\u001b[0m \u001b[1m1s\u001b[0m 0us/step\n",
            "\u001b[1m39/39\u001b[0m \u001b[32m━━━━━━━━━━━━━━━━━━━━\u001b[0m\u001b[37m\u001b[0m \u001b[1m8s\u001b[0m 107ms/step\n",
            "Extracted features shape (ResNet50): (1218, 7, 7, 2048)\n"
          ]
        }
      ]
    },
    {
      "cell_type": "code",
      "source": [
        "#Efficientnet\n",
        "from tensorflow.keras.applications.efficientnet import EfficientNetB0, preprocess_input\n",
        "from tensorflow.keras.models import Model\n",
        "\n",
        "efficientnet_model = EfficientNetB0(include_top=False, weights='imagenet', input_shape=(224, 224, 3))\n",
        "\n",
        "model_efficientnet = Model(inputs=efficientnet_model.input, outputs=efficientnet_model.output)\n",
        "\n",
        "images_efficientnet = preprocess_input(images)\n",
        "\n",
        "features_efficientnet = model_efficientnet.predict(images_efficientnet)\n",
        "\n",
        "print(f\"Extracted features shape (EfficientNet): {features_efficientnet.shape}\")"
      ],
      "metadata": {
        "id": "iLk0ZEAked26",
        "colab": {
          "base_uri": "https://localhost:8080/"
        },
        "outputId": "83c2c064-6ed8-43cb-d60c-544d773b82cd"
      },
      "execution_count": null,
      "outputs": [
        {
          "output_type": "stream",
          "name": "stdout",
          "text": [
            "Downloading data from https://storage.googleapis.com/keras-applications/efficientnetb0_notop.h5\n",
            "\u001b[1m16705208/16705208\u001b[0m \u001b[32m━━━━━━━━━━━━━━━━━━━━\u001b[0m\u001b[37m\u001b[0m \u001b[1m0s\u001b[0m 0us/step\n",
            "\u001b[1m39/39\u001b[0m \u001b[32m━━━━━━━━━━━━━━━━━━━━\u001b[0m\u001b[37m\u001b[0m \u001b[1m15s\u001b[0m 194ms/step\n",
            "Extracted features shape (EfficientNet): (1218, 7, 7, 1280)\n"
          ]
        }
      ]
    },
    {
      "cell_type": "code",
      "source": [
        "features_vgg_flattened = features_vgg.reshape(features_vgg.shape[0], -1)\n",
        "features_resnet_flattened = features_resnet.reshape(features_resnet.shape[0], -1)\n",
        "features_efficientnet_flattened = features_efficientnet.reshape(features_efficientnet.shape[0], -1)\n",
        "\n",
        "print(f\"Flattened features shape (VGG16): {features_vgg_flattened.shape}\")\n",
        "print(f\"Flattened features shape (ResNet50): {features_resnet_flattened.shape}\")\n",
        "print(f\"Flattened features shape (EfficientNet): {features_efficientnet_flattened.shape}\")\n"
      ],
      "metadata": {
        "id": "OFCpHiKkgpGz",
        "colab": {
          "base_uri": "https://localhost:8080/"
        },
        "outputId": "5376d329-3930-43e1-9f52-173b587df192"
      },
      "execution_count": null,
      "outputs": [
        {
          "output_type": "stream",
          "name": "stdout",
          "text": [
            "Flattened features shape (VGG16): (1218, 25088)\n",
            "Flattened features shape (ResNet50): (1218, 100352)\n",
            "Flattened features shape (EfficientNet): (1218, 62720)\n"
          ]
        }
      ]
    },
    {
      "cell_type": "code",
      "source": [
        "from sklearn.ensemble import RandomForestClassifier\n",
        "from sklearn.model_selection import train_test_split\n",
        "from sklearn.metrics import accuracy_score, classification_report\n",
        "\n",
        "\n",
        "X_train, X_test, y_train, y_test = train_test_split(features_vgg_flattened, class_list, test_size=0.2, random_state=42)\n",
        "X_train2, X_test2, y_train2, y_test2 = train_test_split(features_resnet_flattened, class_list, test_size=0.2, random_state=42)\n",
        "X_train3, X_test3, y_train3, y_test3 = train_test_split(features_efficientnet_flattened, class_list, test_size=0.2, random_state=42)\n",
        "\n",
        "\n",
        "rf_model = RandomForestClassifier(n_estimators=901,min_samples_split=2,min_samples_leaf=1, random_state=0)\n",
        "svm_model = SVC(kernel='poly',degree=3,random_state=0)\n"
      ],
      "metadata": {
        "id": "CkOMyMXQgdEI"
      },
      "execution_count": null,
      "outputs": []
    },
    {
      "cell_type": "code",
      "source": [
        "svm_model.fit(X_train, y_train)\n",
        "\n",
        "y_pred = svm_model.predict(X_test)\n",
        "print(f\"SVM (VGG16): {accuracy_score(y_test, y_pred) * 100:.2f}%\")\n",
        "print(classification_report(y_test, y_pred))"
      ],
      "metadata": {
        "id": "NmvvMR0ShCCM",
        "colab": {
          "base_uri": "https://localhost:8080/"
        },
        "outputId": "e3ab242f-28a8-4647-aefb-2d0fcdbf4749"
      },
      "execution_count": null,
      "outputs": [
        {
          "output_type": "stream",
          "name": "stdout",
          "text": [
            "SVM (VGG16): 42.62%\n",
            "              precision    recall  f1-score   support\n",
            "\n",
            "           0       0.00      0.00      0.00        20\n",
            "           1       0.69      0.35      0.46        26\n",
            "           2       1.00      0.53      0.69        17\n",
            "           3       1.00      0.19      0.32        32\n",
            "           4       0.77      0.38      0.51        26\n",
            "           5       0.67      0.21      0.32        19\n",
            "           6       0.80      0.67      0.73         6\n",
            "           7       0.94      0.70      0.80        23\n",
            "           8       0.69      0.36      0.47        25\n",
            "           9       0.89      0.57      0.69        30\n",
            "          10       0.14      1.00      0.25        20\n",
            "\n",
            "    accuracy                           0.43       244\n",
            "   macro avg       0.69      0.45      0.48       244\n",
            "weighted avg       0.71      0.43      0.47       244\n",
            "\n"
          ]
        }
      ]
    },
    {
      "cell_type": "code",
      "source": [
        "svm_model.fit(X_train2, y_train2)\n",
        "\n",
        "# Predict and evaluate\n",
        "y_pred2 = svm_model.predict(X_test2)\n",
        "print(f\"SVM (RESNET): {accuracy_score(y_test2, y_pred2) * 100:.2f}%\")\n",
        "print(classification_report(y_test2, y_pred2))"
      ],
      "metadata": {
        "id": "VMUPW4zbhE_u",
        "colab": {
          "base_uri": "https://localhost:8080/"
        },
        "outputId": "36a30871-0dc2-4753-c8d8-4bb44167b67b"
      },
      "execution_count": null,
      "outputs": [
        {
          "output_type": "stream",
          "name": "stdout",
          "text": [
            "SVM (RESNET): 74.18%\n",
            "              precision    recall  f1-score   support\n",
            "\n",
            "           0       0.54      0.35      0.42        20\n",
            "           1       0.80      0.77      0.78        26\n",
            "           2       1.00      0.76      0.87        17\n",
            "           3       1.00      0.53      0.69        32\n",
            "           4       0.68      0.81      0.74        26\n",
            "           5       0.77      0.53      0.62        19\n",
            "           6       1.00      0.67      0.80         6\n",
            "           7       0.84      0.70      0.76        23\n",
            "           8       0.71      0.96      0.81        25\n",
            "           9       0.56      1.00      0.71        30\n",
            "          10       0.90      0.95      0.93        20\n",
            "\n",
            "    accuracy                           0.74       244\n",
            "   macro avg       0.80      0.73      0.74       244\n",
            "weighted avg       0.78      0.74      0.74       244\n",
            "\n"
          ]
        }
      ]
    },
    {
      "cell_type": "code",
      "source": [
        "svm_model.fit(X_train3, y_train3)\n",
        "\n",
        "# Predict and evaluate\n",
        "y_pred3 = svm_model.predict(X_test3)\n",
        "print(f\"SVM (EFFICIENT NET): {accuracy_score(y_test3, y_pred3) * 100:.2f}%\")\n",
        "print(classification_report(y_test3, y_pred3))"
      ],
      "metadata": {
        "id": "Hz4foPDbhFHb",
        "colab": {
          "base_uri": "https://localhost:8080/"
        },
        "outputId": "32fd3a35-85d9-4c3c-ef4e-38a8322855b4"
      },
      "execution_count": null,
      "outputs": [
        {
          "output_type": "stream",
          "name": "stdout",
          "text": [
            "SVM (EFFICIENT NET): 45.08%\n",
            "              precision    recall  f1-score   support\n",
            "\n",
            "           0       0.67      0.10      0.17        20\n",
            "           1       0.61      0.42      0.50        26\n",
            "           2       1.00      0.24      0.38        17\n",
            "           3       1.00      0.19      0.32        32\n",
            "           4       0.83      0.38      0.53        26\n",
            "           5       0.75      0.16      0.26        19\n",
            "           6       1.00      0.33      0.50         6\n",
            "           7       1.00      0.52      0.69        23\n",
            "           8       1.00      0.60      0.75        25\n",
            "           9       0.20      1.00      0.33        30\n",
            "          10       1.00      0.75      0.86        20\n",
            "\n",
            "    accuracy                           0.45       244\n",
            "   macro avg       0.82      0.43      0.48       244\n",
            "weighted avg       0.80      0.45      0.48       244\n",
            "\n"
          ]
        }
      ]
    }
  ]
}